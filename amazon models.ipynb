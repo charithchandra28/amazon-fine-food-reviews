{
 "cells": [
  {
   "cell_type": "markdown",
   "metadata": {
    "collapsed": true
   },
   "source": [
    "### Exploratory Data Analysis"
   ]
  },
  {
   "cell_type": "code",
   "execution_count": 1,
   "metadata": {
    "collapsed": false
   },
   "outputs": [
    {
     "name": "stderr",
     "output_type": "stream",
     "text": [
      "/home/saiteja_nalla/anaconda3/lib/python3.5/site-packages/pandas/computation/__init__.py:19: UserWarning: The installed version of numexpr 2.4.4 is not supported in pandas and will be not be used\n",
      "\n",
      "  UserWarning)\n"
     ]
    }
   ],
   "source": [
    "# import pandas\n",
    "import pandas as pd\n",
    "%matplotlib inline"
   ]
  },
  {
   "cell_type": "code",
   "execution_count": 2,
   "metadata": {
    "collapsed": true
   },
   "outputs": [],
   "source": [
    "# Loading the dataset to pandas dataframe df\n",
    "df = pd.read_csv(\"Reviews.csv\")\n",
    "\n",
    "# excluding the datapoints whose Score is 3\n",
    "df = df[df.Score !=3]"
   ]
  },
  {
   "cell_type": "code",
   "execution_count": 3,
   "metadata": {
    "collapsed": false
   },
   "outputs": [
    {
     "data": {
      "text/plain": [
       "(525814, 10)"
      ]
     },
     "execution_count": 3,
     "metadata": {},
     "output_type": "execute_result"
    }
   ],
   "source": [
    "df.shape"
   ]
  },
  {
   "cell_type": "code",
   "execution_count": 4,
   "metadata": {
    "collapsed": false
   },
   "outputs": [
    {
     "data": {
      "text/plain": [
       "(525559, 10)"
      ]
     },
     "execution_count": 4,
     "metadata": {},
     "output_type": "execute_result"
    }
   ],
   "source": [
    "# Dropping the duplicates and checking the shape of dataset\n",
    "df.drop_duplicates(subset=['ProductId','UserId','ProfileName','HelpfulnessNumerator','HelpfulnessDenominator','Time','Score','Summary','Text']).shape"
   ]
  },
  {
   "cell_type": "code",
   "execution_count": 5,
   "metadata": {
    "collapsed": false
   },
   "outputs": [
    {
     "data": {
      "text/plain": [
       "Id                         0\n",
       "ProductId                  0\n",
       "UserId                     0\n",
       "ProfileName               16\n",
       "HelpfulnessNumerator       0\n",
       "HelpfulnessDenominator     0\n",
       "Score                      0\n",
       "Time                       0\n",
       "Summary                   25\n",
       "Text                       0\n",
       "dtype: int64"
      ]
     },
     "execution_count": 5,
     "metadata": {},
     "output_type": "execute_result"
    }
   ],
   "source": [
    "# Checking for Null and NAN's in dataset\n",
    "df.isnull().sum()"
   ]
  },
  {
   "cell_type": "code",
   "execution_count": 6,
   "metadata": {
    "collapsed": true
   },
   "outputs": [],
   "source": [
    "# Dropping all the datapoints having Null and NAN's\n",
    "df = df.dropna(how='any')"
   ]
  },
  {
   "cell_type": "code",
   "execution_count": 7,
   "metadata": {
    "collapsed": false
   },
   "outputs": [
    {
     "data": {
      "text/plain": [
       "Id                        0\n",
       "ProductId                 0\n",
       "UserId                    0\n",
       "ProfileName               0\n",
       "HelpfulnessNumerator      0\n",
       "HelpfulnessDenominator    0\n",
       "Score                     0\n",
       "Time                      0\n",
       "Summary                   0\n",
       "Text                      0\n",
       "dtype: int64"
      ]
     },
     "execution_count": 7,
     "metadata": {},
     "output_type": "execute_result"
    }
   ],
   "source": [
    "# Checking whether the Null and NAN's have dropped\n",
    "df.isnull().sum()"
   ]
  },
  {
   "cell_type": "code",
   "execution_count": 8,
   "metadata": {
    "collapsed": true
   },
   "outputs": [],
   "source": [
    "# Assigning review 0 for datapoints with Score 1,2\n",
    "# Assigning review 1 for datapoints with Score 4,5\n",
    "df['review'] = df['Score'].apply(lambda x: 1 if x > 3 else 0)"
   ]
  },
  {
   "cell_type": "code",
   "execution_count": 9,
   "metadata": {
    "collapsed": false
   },
   "outputs": [],
   "source": [
    "# imports\n",
    "import matplotlib.pyplot as plt\n",
    "import matplotlib.ticker as mtick\n",
    "import seaborn as sns"
   ]
  },
  {
   "cell_type": "markdown",
   "metadata": {},
   "source": [
    "**Observation :** 5 Star reviews constitute a larger proporion followed by 4 star reviews followed by 1 star then 2 star"
   ]
  },
  {
   "cell_type": "code",
   "execution_count": 10,
   "metadata": {
    "collapsed": false
   },
   "outputs": [
    {
     "data": {
      "image/png": "[encoded data removed]",
      "text/plain": [
       "<matplotlib.figure.Figure at 0x7ff490f90860>"
      ]
     },
     "metadata": {},
     "output_type": "display_data"
    }
   ],
   "source": [
    "sns.countplot(x='Score',data=df)\n",
    "plt.show()"
   ]
  },
  {
   "cell_type": "markdown",
   "metadata": {},
   "source": [
    "** Observation :** Positive reviews are very common"
   ]
  },
  {
   "cell_type": "code",
   "execution_count": 11,
   "metadata": {
    "collapsed": false
   },
   "outputs": [
    {
     "data": {
      "image/png": "[encoded data removed]",
      "text/plain": [
       "<matplotlib.figure.Figure at 0x7ff48016d3c8>"
      ]
     },
     "metadata": {},
     "output_type": "display_data"
    }
   ],
   "source": [
    "sns.countplot(x='review',data=df)\n",
    "plt.show()"
   ]
  },
  {
   "cell_type": "code",
   "execution_count": 12,
   "metadata": {
    "collapsed": true
   },
   "outputs": [],
   "source": [
    "df1 = df\n",
    "df1['Slength'] = df1.Summary.apply(len)\n",
    "df1['Tlength'] = df1.Text.apply(len)"
   ]
  },
  {
   "cell_type": "markdown",
   "metadata": {},
   "source": [
    "** Observation :** Positive reviews are shorter"
   ]
  },
  {
   "cell_type": "code",
   "execution_count": 13,
   "metadata": {
    "collapsed": false
   },
   "outputs": [
    {
     "data": {
      "image/png": "[encoded data removed]",
      "text/plain": [
       "<matplotlib.figure.Figure at 0x7ff48fbe30b8>"
      ]
     },
     "metadata": {},
     "output_type": "display_data"
    }
   ],
   "source": [
    "sns.countplot(x='Tlength',data=df1,hue='review')\n",
    "plt.xlim(0,25)\n",
    "plt.ylim(0,20)\n",
    "plt.show()"
   ]
  },
  {
   "cell_type": "code",
   "execution_count": 14,
   "metadata": {
    "collapsed": false
   },
   "outputs": [
    {
     "data": {
      "image/png": "[encoded data removed]",
      "text/plain": [
       "<matplotlib.figure.Figure at 0x7ff48fbd57b8>"
      ]
     },
     "metadata": {},
     "output_type": "display_data"
    }
   ],
   "source": [
    "sns.barplot(x='review',y='Tlength',data=df)\n",
    "plt.show()"
   ]
  },
  {
   "cell_type": "code",
   "execution_count": 15,
   "metadata": {
    "collapsed": true
   },
   "outputs": [],
   "source": [
    "df1.sort_values('HelpfulnessNumerator',ascending=False,inplace=True)"
   ]
  },
  {
   "cell_type": "markdown",
   "metadata": {},
   "source": [
    "**Observation : **Tlength is kind of log normally distributed"
   ]
  },
  {
   "cell_type": "code",
   "execution_count": 16,
   "metadata": {
    "collapsed": false
   },
   "outputs": [
    {
     "data": {
      "image/png": "[encoded data removed]",
      "text/plain": [
       "<matplotlib.figure.Figure at 0x7ff4734ff438>"
      ]
     },
     "metadata": {},
     "output_type": "display_data"
    }
   ],
   "source": [
    "sns.distplot(df1['Tlength'],kde=True,color='g')\n",
    "plt.show()"
   ]
  },
  {
   "cell_type": "markdown",
   "metadata": {},
   "source": [
    "** Observation : **Positive reviews are more helpful despite being common and short"
   ]
  },
  {
   "cell_type": "code",
   "execution_count": 17,
   "metadata": {
    "collapsed": false
   },
   "outputs": [
    {
     "data": {
      "image/png": "[encoded data removed]",
      "text/plain": [
       "<matplotlib.figure.Figure at 0x7ff48016d588>"
      ]
     },
     "metadata": {},
     "output_type": "display_data"
    }
   ],
   "source": [
    "sns.countplot(x='HelpfulnessNumerator',data=df1,hue='review')\n",
    "plt.xlim(0,25)\n",
    "plt.show()"
   ]
  },
  {
   "cell_type": "code",
   "execution_count": 18,
   "metadata": {
    "collapsed": false
   },
   "outputs": [
    {
     "data": {
      "image/png": "[encoded data removed]",
      "text/plain": [
       "<matplotlib.figure.Figure at 0x7ff471ae01d0>"
      ]
     },
     "metadata": {},
     "output_type": "display_data"
    }
   ],
   "source": [
    "sns.distplot(df1['HelpfulnessNumerator'],kde=True,color='g')\n",
    "plt.show()"
   ]
  },
  {
   "cell_type": "code",
   "execution_count": 19,
   "metadata": {
    "collapsed": false
   },
   "outputs": [
    {
     "data": {
      "text/plain": [
       "429.42163062766633"
      ]
     },
     "execution_count": 19,
     "metadata": {},
     "output_type": "execute_result"
    }
   ],
   "source": [
    "meanLength = df1['Tlength'].mean()\n",
    "meanLength"
   ]
  },
  {
   "cell_type": "code",
   "execution_count": 20,
   "metadata": {
    "collapsed": true
   },
   "outputs": [],
   "source": [
    "df1['MeanLen'] = df1['Tlength'].apply(lambda x: 1 if x > meanLength else 0)"
   ]
  },
  {
   "cell_type": "markdown",
   "metadata": {},
   "source": [
    "** Observations : - **\n",
    "- Longer Reviews are more helpful\n",
    "- Reviews in Blue(0) are reviews with lenth less than mean length(inclusive).\n",
    "- Reviews in Green(1) are reviews with lenth greater than mean length."
   ]
  },
  {
   "cell_type": "code",
   "execution_count": 21,
   "metadata": {
    "collapsed": false
   },
   "outputs": [
    {
     "data": {
      "image/png": "[encoded data removed]",
      "text/plain": [
       "<matplotlib.figure.Figure at 0x7ff48fbe8400>"
      ]
     },
     "metadata": {},
     "output_type": "display_data"
    }
   ],
   "source": [
    "sns.countplot(x='HelpfulnessNumerator',data=df1,hue='MeanLen')\n",
    "plt.xlim(0,25)\n",
    "plt.ylim(0,80000)\n",
    "plt.show()"
   ]
  },
  {
   "cell_type": "code",
   "execution_count": 22,
   "metadata": {
    "collapsed": false
   },
   "outputs": [
    {
     "data": {
      "image/png": "[encoded data removed]",
      "text/plain": [
       "<matplotlib.figure.Figure at 0x7ff4bcf2e8d0>"
      ]
     },
     "metadata": {},
     "output_type": "display_data"
    }
   ],
   "source": [
    "sns.countplot(x='HelpfulnessNumerator',data=df1,hue='MeanLen')\n",
    "#sns.plt.xlim(0,25)\n",
    "#sns.plt.ylim(0,80000)\n",
    "plt.show()"
   ]
  },
  {
   "cell_type": "markdown",
   "metadata": {},
   "source": [
    "### Bag of words"
   ]
  },
  {
   "cell_type": "code",
   "execution_count": 23,
   "metadata": {
    "collapsed": true
   },
   "outputs": [],
   "source": [
    "# Taking the Summary and Review to X and Y respectively\n",
    "X = df['Summary']\n",
    "Y = df['review']"
   ]
  },
  {
   "cell_type": "code",
   "execution_count": 24,
   "metadata": {
    "collapsed": false
   },
   "outputs": [
    {
     "name": "stdout",
     "output_type": "stream",
     "text": [
      "(525773,)\n",
      "(525773,)\n"
     ]
    }
   ],
   "source": [
    "print(X.shape)\n",
    "print(Y.shape)"
   ]
  },
  {
   "cell_type": "code",
   "execution_count": 25,
   "metadata": {
    "collapsed": false
   },
   "outputs": [
    {
     "data": {
      "text/plain": [
       "190733                 Works as Advertised - Classy Product\n",
       "566779                                sauce not for mortals\n",
       "235722                           Lost in Translation: Truth\n",
       "467800    Works great! But how does it compare to Solofi...\n",
       "385450    Works great! But how does it compare to Solofi...\n",
       "Name: Summary, dtype: object"
      ]
     },
     "execution_count": 25,
     "metadata": {},
     "output_type": "execute_result"
    }
   ],
   "source": [
    "X.head()"
   ]
  },
  {
   "cell_type": "code",
   "execution_count": 26,
   "metadata": {
    "collapsed": false
   },
   "outputs": [
    {
     "name": "stderr",
     "output_type": "stream",
     "text": [
      "/home/saiteja_nalla/anaconda3/lib/python3.5/site-packages/sklearn/cross_validation.py:41: DeprecationWarning: This module was deprecated in version 0.18 in favor of the model_selection module into which all the refactored classes and functions are moved. Also note that the interface of the new CV iterators are different from that of this module. This module will be removed in 0.20.\n",
      "  \"This module will be removed in 0.20.\", DeprecationWarning)\n"
     ]
    },
    {
     "name": "stdout",
     "output_type": "stream",
     "text": [
      "(394329,)\n",
      "(131444,)\n",
      "(394329,)\n",
      "(131444,)\n"
     ]
    }
   ],
   "source": [
    "# split X and y into training and testing sets\n",
    "# by default, it splits 75% training and 25% test\n",
    "# random_state=1 for reproducibility\n",
    "from sklearn.cross_validation import train_test_split\n",
    "X_train, X_test, y_train, y_test = train_test_split(X, Y, random_state=1)\n",
    "print(X_train.shape)\n",
    "print(X_test.shape)\n",
    "print(y_train.shape)\n",
    "print(y_test.shape)"
   ]
  },
  {
   "cell_type": "code",
   "execution_count": 27,
   "metadata": {
    "collapsed": true
   },
   "outputs": [],
   "source": [
    "# Converting train and test sets of X and Y to lists\n",
    "x_train = X_train.values.tolist()\n",
    "Y_train = y_train.values.tolist()\n",
    "x_test = X_test.values.tolist()\n",
    "Y_test = y_test.values.tolist()"
   ]
  },
  {
   "cell_type": "code",
   "execution_count": 28,
   "metadata": {
    "collapsed": true
   },
   "outputs": [],
   "source": [
    "# imports\n",
    "from nltk import word_tokenize          \n",
    "from nltk.stem.porter import PorterStemmer\n",
    "import string"
   ]
  },
  {
   "cell_type": "code",
   "execution_count": 29,
   "metadata": {
    "collapsed": true
   },
   "outputs": [],
   "source": [
    "stemmer = PorterStemmer()\n",
    "# defining a stem function to stem the token\n",
    "def stem_tokens(tokens, stemmer):\n",
    "    stemmed = []\n",
    "    for item in tokens:\n",
    "        stemmed.append(stemmer.stem(item))\n",
    "    return stemmed\n",
    "# defining a tokenize function to tokenize the text remove punctuation and call stem_tokens\n",
    "# this tokenize function shall be integrated in CountVectorizer\n",
    "def tokenize(text):\n",
    "    text = \"\".join([ch for ch in text if ch not in string.punctuation])\n",
    "    tokens = word_tokenize(text)\n",
    "    stems = stem_tokens(tokens, stemmer)\n",
    "    return stems"
   ]
  },
  {
   "cell_type": "code",
   "execution_count": 30,
   "metadata": {
    "collapsed": true
   },
   "outputs": [],
   "source": [
    "# import\n",
    "from sklearn.feature_extraction.text import CountVectorizer\n",
    "\n",
    "# instantiate CountVectorizer\n",
    "# this will also do all the prepocessing of stemming, removing punctuation and stop words\n",
    "# tokenize function is integrated to do all preprocessing steps\n",
    "vect = CountVectorizer(tokenizer=tokenize, stop_words='english')"
   ]
  },
  {
   "cell_type": "code",
   "execution_count": 31,
   "metadata": {
    "collapsed": false
   },
   "outputs": [
    {
     "data": {
      "text/plain": [
       "CountVectorizer(analyzer='word', binary=False, decode_error='strict',\n",
       "        dtype=<class 'numpy.int64'>, encoding='utf-8', input='content',\n",
       "        lowercase=True, max_df=1.0, max_features=None, min_df=1,\n",
       "        ngram_range=(1, 1), preprocessor=None, stop_words='english',\n",
       "        strip_accents=None, token_pattern='(?u)\\\\b\\\\w\\\\w+\\\\b',\n",
       "        tokenizer=<function tokenize at 0x7ff46d2f58c8>, vocabulary=None)"
      ]
     },
     "execution_count": 31,
     "metadata": {},
     "output_type": "execute_result"
    }
   ],
   "source": [
    "# fit\n",
    "# learn the 'vocabulary' of the training data\n",
    "vect.fit(x_train)"
   ]
  },
  {
   "cell_type": "code",
   "execution_count": 32,
   "metadata": {
    "collapsed": false
   },
   "outputs": [
    {
     "data": {
      "text/plain": [
       "['0',\n",
       " '00',\n",
       " '001',\n",
       " '00g',\n",
       " '02',\n",
       " '020',\n",
       " '021512',\n",
       " '03',\n",
       " '031412',\n",
       " '032811',\n",
       " '042oz',\n",
       " '043',\n",
       " '045oz',\n",
       " '05',\n",
       " '05oz',\n",
       " '06',\n",
       " '060',\n",
       " '062',\n",
       " '06202',\n",
       " '0625',\n",
       " '0631',\n",
       " '069cup',\n",
       " '06sep12',\n",
       " '07',\n",
       " '070308',\n",
       " '0712',\n",
       " '07132009',\n",
       " '075',\n",
       " '078',\n",
       " '08',\n",
       " '081fl',\n",
       " '088can',\n",
       " '09',\n",
       " '09062011',\n",
       " '092311',\n",
       " '097ounc',\n",
       " '0f',\n",
       " '0g',\n",
       " '0s',\n",
       " '0z',\n",
       " '1',\n",
       " '10',\n",
       " '100',\n",
       " '1000',\n",
       " '10000',\n",
       " '1000count',\n",
       " '1002851',\n",
       " '100999',\n",
       " '100calori',\n",
       " '100count',\n",
       " '100g',\n",
       " '100gr',\n",
       " '100gram',\n",
       " '100pack',\n",
       " '101',\n",
       " '1010',\n",
       " '101212',\n",
       " '10122012',\n",
       " '1015',\n",
       " '102',\n",
       " '102011',\n",
       " '102012',\n",
       " '102508',\n",
       " '103',\n",
       " '104',\n",
       " '1040',\n",
       " '105',\n",
       " '1058',\n",
       " '105ounc',\n",
       " '106832',\n",
       " '1073',\n",
       " '108',\n",
       " '10812',\n",
       " '10910',\n",
       " '1095',\n",
       " '1099',\n",
       " '10am',\n",
       " '10count',\n",
       " '10g',\n",
       " '10lb',\n",
       " '10mo',\n",
       " '10month',\n",
       " '10ounc',\n",
       " '10oz',\n",
       " '10pack',\n",
       " '10piec',\n",
       " '10star',\n",
       " '10th',\n",
       " '10x',\n",
       " '10yearold',\n",
       " '11',\n",
       " '110',\n",
       " '1100',\n",
       " '1100am',\n",
       " '1114',\n",
       " '1115ounc',\n",
       " '111811',\n",
       " '11182011',\n",
       " '112',\n",
       " '112ounc',\n",
       " '113',\n",
       " '1148',\n",
       " '115',\n",
       " '1150',\n",
       " '115ounc',\n",
       " '1175ounc',\n",
       " '118',\n",
       " '119',\n",
       " '1194',\n",
       " '11g',\n",
       " '11mo',\n",
       " '11month',\n",
       " '11ounc',\n",
       " '11oz',\n",
       " '11th',\n",
       " '11year',\n",
       " '11yr',\n",
       " '12',\n",
       " '120',\n",
       " '12011one',\n",
       " '1209',\n",
       " '120cal',\n",
       " '120count',\n",
       " '120ct',\n",
       " '120mg',\n",
       " '120ounc',\n",
       " '1225ounc',\n",
       " '123',\n",
       " '123111',\n",
       " '1235',\n",
       " '124',\n",
       " '125',\n",
       " '1255',\n",
       " '1258',\n",
       " '125lb',\n",
       " '125ouncepack',\n",
       " '125oz',\n",
       " '125pound',\n",
       " '1265',\n",
       " '126oz',\n",
       " '127',\n",
       " '1272010',\n",
       " '128',\n",
       " '129',\n",
       " '1295',\n",
       " '1299',\n",
       " '12a',\n",
       " '12color',\n",
       " '12count',\n",
       " '12ct',\n",
       " '12cup',\n",
       " '12g',\n",
       " '12gram',\n",
       " '12inch',\n",
       " '12ounc',\n",
       " '12oz',\n",
       " '12pack',\n",
       " '12pk',\n",
       " '12quart',\n",
       " '12x',\n",
       " '12year',\n",
       " '13',\n",
       " '130',\n",
       " '132mg',\n",
       " '132ounc',\n",
       " '134ounc',\n",
       " '135',\n",
       " '135calori',\n",
       " '135mg',\n",
       " '135ounc',\n",
       " '136',\n",
       " '1360',\n",
       " '1369',\n",
       " '139',\n",
       " '1399lb',\n",
       " '13g',\n",
       " '13m',\n",
       " '13ounc',\n",
       " '13oz',\n",
       " '13rd',\n",
       " '14',\n",
       " '140',\n",
       " '1400',\n",
       " '141',\n",
       " '144',\n",
       " '1446',\n",
       " '145',\n",
       " '147',\n",
       " '1470mg',\n",
       " '1479',\n",
       " '149',\n",
       " '1499',\n",
       " '14gram',\n",
       " '14mo',\n",
       " '14momma3',\n",
       " '14ounc',\n",
       " '14oz',\n",
       " '14pack',\n",
       " '14th',\n",
       " '14weekold',\n",
       " '14year',\n",
       " '14yr',\n",
       " '14yrold',\n",
       " '15',\n",
       " '150',\n",
       " '1500',\n",
       " '150awesom',\n",
       " '150count',\n",
       " '150g',\n",
       " '1519',\n",
       " '152',\n",
       " '1523',\n",
       " '1525oz',\n",
       " '1528',\n",
       " '1533',\n",
       " '155',\n",
       " '155pound',\n",
       " '157',\n",
       " '158ounc',\n",
       " '1595',\n",
       " '1598',\n",
       " '1599',\n",
       " '15barpump',\n",
       " '15mo',\n",
       " '15monthold',\n",
       " '15ounc',\n",
       " '15oz',\n",
       " '15xx',\n",
       " '16',\n",
       " '160',\n",
       " '1608',\n",
       " '160mg',\n",
       " '1613',\n",
       " '16217',\n",
       " '162ounc',\n",
       " '164',\n",
       " '1675',\n",
       " '1675ounc',\n",
       " '168g',\n",
       " '169',\n",
       " '1690',\n",
       " '1699',\n",
       " '169oz',\n",
       " '16count',\n",
       " '16fluid',\n",
       " '16lb',\n",
       " '16ounc',\n",
       " '16oz',\n",
       " '16pack',\n",
       " '16th',\n",
       " '16year',\n",
       " '16yr',\n",
       " '17',\n",
       " '170',\n",
       " '1700',\n",
       " '1705',\n",
       " '1723',\n",
       " '1723gallon',\n",
       " '1740gallon',\n",
       " '1748',\n",
       " '175',\n",
       " '175ounc',\n",
       " '176',\n",
       " '1769',\n",
       " '1784',\n",
       " '1795',\n",
       " '17g',\n",
       " '17lb',\n",
       " '17month',\n",
       " '17ounc',\n",
       " '18',\n",
       " '180',\n",
       " '1800',\n",
       " '18004420099',\n",
       " '1800flower',\n",
       " '180calori',\n",
       " '181',\n",
       " '1820',\n",
       " '1825',\n",
       " '1836',\n",
       " '185',\n",
       " '1866',\n",
       " '1875now',\n",
       " '1895',\n",
       " '1899',\n",
       " '18count',\n",
       " '18cup',\n",
       " '18i',\n",
       " '18lb',\n",
       " '18month',\n",
       " '18th',\n",
       " '18year',\n",
       " '18yearold',\n",
       " '18yo',\n",
       " '19',\n",
       " '190',\n",
       " '191',\n",
       " '1912',\n",
       " '1913',\n",
       " '1918',\n",
       " '1921',\n",
       " '1923',\n",
       " '192ouncepack',\n",
       " '1937',\n",
       " '1940',\n",
       " '1946',\n",
       " '1950',\n",
       " '195oz',\n",
       " '1960',\n",
       " '1960mg',\n",
       " '1961',\n",
       " '1970',\n",
       " '197080',\n",
       " '1979',\n",
       " '198',\n",
       " '1980',\n",
       " '1980z',\n",
       " '1983',\n",
       " '1987',\n",
       " '1988',\n",
       " '199',\n",
       " '1993',\n",
       " '1999',\n",
       " '199oz',\n",
       " '19month',\n",
       " '19ounc',\n",
       " '1bigguy',\n",
       " '1but',\n",
       " '1click',\n",
       " '1gr',\n",
       " '1l',\n",
       " '1lb',\n",
       " '1liter',\n",
       " '1love4sur',\n",
       " '1ounc',\n",
       " '1oz',\n",
       " '1qt',\n",
       " '1quart',\n",
       " '1st',\n",
       " '1star',\n",
       " '1time',\n",
       " '1ww',\n",
       " '1year',\n",
       " '1yo',\n",
       " '1yr',\n",
       " '2',\n",
       " '20',\n",
       " '200',\n",
       " '2000',\n",
       " '20000',\n",
       " '2002',\n",
       " '2003',\n",
       " '2004',\n",
       " '2005',\n",
       " '2006',\n",
       " '2007',\n",
       " '2008',\n",
       " '2009',\n",
       " '200g',\n",
       " '200gr',\n",
       " '200ml',\n",
       " '200z',\n",
       " '2010',\n",
       " '2011',\n",
       " '20112012',\n",
       " '2011jan06',\n",
       " '2012',\n",
       " '2012pack',\n",
       " '2013',\n",
       " '2025',\n",
       " '205',\n",
       " '207ounc',\n",
       " '208',\n",
       " '2099',\n",
       " '20count',\n",
       " '20g',\n",
       " '20lb',\n",
       " '20mg',\n",
       " '20ounc',\n",
       " '20oz',\n",
       " '20packet',\n",
       " '20pound',\n",
       " '20th',\n",
       " '20x',\n",
       " '21',\n",
       " '212',\n",
       " '216',\n",
       " '219',\n",
       " '2199',\n",
       " '21g',\n",
       " '21o',\n",
       " '21pack',\n",
       " '21st',\n",
       " '22',\n",
       " '220',\n",
       " '2200',\n",
       " '2225',\n",
       " '225ounc',\n",
       " '229',\n",
       " '22lb',\n",
       " '22ounc',\n",
       " '22pound',\n",
       " '23',\n",
       " '230',\n",
       " '234',\n",
       " '235',\n",
       " '2376',\n",
       " '2382',\n",
       " '23lb',\n",
       " '23ounc',\n",
       " '23oz',\n",
       " '24',\n",
       " '240',\n",
       " '2400',\n",
       " '2407',\n",
       " '240count',\n",
       " '241oz',\n",
       " '243oz',\n",
       " '2447',\n",
       " '2453',\n",
       " '2461',\n",
       " '247',\n",
       " '248ounc',\n",
       " '249',\n",
       " '2499',\n",
       " '24count',\n",
       " '24ounc',\n",
       " '24oz',\n",
       " '24pack',\n",
       " '24pk',\n",
       " '24qt',\n",
       " '25',\n",
       " '250',\n",
       " '2500',\n",
       " '25000',\n",
       " '250mg',\n",
       " '253oz',\n",
       " '254',\n",
       " '254ounc',\n",
       " '255',\n",
       " '256',\n",
       " '2599',\n",
       " '25count',\n",
       " '25countgot',\n",
       " '25g',\n",
       " '25gram',\n",
       " '25lb',\n",
       " '25ounc',\n",
       " '25oz',\n",
       " '25worth',\n",
       " '26',\n",
       " '260',\n",
       " '2600',\n",
       " '26015',\n",
       " '2612',\n",
       " '26368396401239431859652816528165281',\n",
       " '264',\n",
       " '264oz',\n",
       " '265ounc',\n",
       " '267',\n",
       " '269',\n",
       " '2699',\n",
       " '26free',\n",
       " '26pound',\n",
       " '27',\n",
       " '270',\n",
       " '2700',\n",
       " '2725',\n",
       " '2740',\n",
       " '275',\n",
       " '275ounc',\n",
       " '278ounc',\n",
       " '27count',\n",
       " '28',\n",
       " '28275oz',\n",
       " '2836',\n",
       " '288',\n",
       " '288count',\n",
       " '28g',\n",
       " '28mg',\n",
       " '28ounc',\n",
       " '28oz',\n",
       " '28th',\n",
       " '29',\n",
       " '290ct',\n",
       " '2910',\n",
       " '299',\n",
       " '2aday',\n",
       " '2can',\n",
       " '2dachshund',\n",
       " '2day',\n",
       " '2fer1',\n",
       " '2g',\n",
       " '2in1',\n",
       " '2inch',\n",
       " '2lb',\n",
       " '2manyb',\n",
       " '2nd',\n",
       " '2ounc',\n",
       " '2oz',\n",
       " '2pack',\n",
       " '2pk',\n",
       " '2pm',\n",
       " '2pound',\n",
       " '2star',\n",
       " '2x',\n",
       " '2x12pk',\n",
       " '2x20',\n",
       " '2year',\n",
       " '2yearold',\n",
       " '2yo',\n",
       " '2yr',\n",
       " '3',\n",
       " '30',\n",
       " '300',\n",
       " '3000',\n",
       " '300th',\n",
       " '3025',\n",
       " '303ounc',\n",
       " '30ct',\n",
       " '30lb',\n",
       " '30minut',\n",
       " '30ounc',\n",
       " '30oz',\n",
       " '30pack',\n",
       " '31',\n",
       " '310',\n",
       " '3100realli',\n",
       " '3112',\n",
       " '312',\n",
       " '312count',\n",
       " '3143',\n",
       " '3146',\n",
       " '315',\n",
       " '316',\n",
       " '31g',\n",
       " '32',\n",
       " '320',\n",
       " '3200',\n",
       " '32012',\n",
       " '321',\n",
       " '321250000',\n",
       " '324lb',\n",
       " '329',\n",
       " '32count',\n",
       " '32onz',\n",
       " '32ounc',\n",
       " '32oz',\n",
       " '32pack',\n",
       " '33',\n",
       " '330',\n",
       " '338',\n",
       " '338ounc',\n",
       " '33g',\n",
       " '33lb',\n",
       " '33ounc',\n",
       " '34',\n",
       " '34g',\n",
       " '34ounc',\n",
       " '34oz',\n",
       " '35',\n",
       " '350',\n",
       " '3500',\n",
       " '350f',\n",
       " '350ounc',\n",
       " '3518',\n",
       " '353',\n",
       " '354',\n",
       " '357',\n",
       " '359',\n",
       " '35lb',\n",
       " '35mg',\n",
       " '35ounc',\n",
       " '35oz',\n",
       " '35pound',\n",
       " '36',\n",
       " '360',\n",
       " '365',\n",
       " '36count',\n",
       " '36ct',\n",
       " '36g',\n",
       " '36lb',\n",
       " '36oz',\n",
       " '36pack',\n",
       " '36pound',\n",
       " '37',\n",
       " '3700',\n",
       " '375',\n",
       " '379',\n",
       " '38',\n",
       " '38237',\n",
       " '385',\n",
       " '39',\n",
       " '390',\n",
       " '391ounc',\n",
       " '398',\n",
       " '399',\n",
       " '3995',\n",
       " '3am',\n",
       " '3but',\n",
       " '3c',\n",
       " '3d',\n",
       " '3day',\n",
       " '3flavor',\n",
       " '3g',\n",
       " '3green',\n",
       " '3greendog',\n",
       " '3in1',\n",
       " '3kg',\n",
       " '3l',\n",
       " '3lb',\n",
       " '3mo',\n",
       " '3ounc',\n",
       " '3oz',\n",
       " '3pack',\n",
       " '3pkg',\n",
       " '3rae',\n",
       " '3rd',\n",
       " '3s',\n",
       " '3way',\n",
       " '3x',\n",
       " '3year',\n",
       " '3yearold',\n",
       " '3yr',\n",
       " '4',\n",
       " '40',\n",
       " '400',\n",
       " '4000',\n",
       " '400count',\n",
       " '400g',\n",
       " '404',\n",
       " '4045',\n",
       " '407',\n",
       " '40count',\n",
       " '40gram',\n",
       " '40lb',\n",
       " '40ounc',\n",
       " '40oz',\n",
       " '40th',\n",
       " '40year',\n",
       " '41',\n",
       " '41011',\n",
       " '412',\n",
       " '42',\n",
       " '420',\n",
       " '425',\n",
       " '42612',\n",
       " '43',\n",
       " '4300',\n",
       " '4311',\n",
       " '433',\n",
       " '4375',\n",
       " '44',\n",
       " '441ounc',\n",
       " '444ounc',\n",
       " '448oz',\n",
       " '44pound',\n",
       " '45',\n",
       " '450',\n",
       " '4500',\n",
       " '454',\n",
       " '4544',\n",
       " '457',\n",
       " '45calori',\n",
       " '45lb',\n",
       " '45ounc',\n",
       " '45x',\n",
       " '46',\n",
       " '460',\n",
       " '4611',\n",
       " '46c',\n",
       " '46oz',\n",
       " '47',\n",
       " '470',\n",
       " '4700',\n",
       " '474',\n",
       " '479',\n",
       " '48',\n",
       " '488',\n",
       " '489',\n",
       " '48count',\n",
       " '48lb',\n",
       " '48ounc',\n",
       " '48pack',\n",
       " '49',\n",
       " '495',\n",
       " '496',\n",
       " '499',\n",
       " '4995',\n",
       " '4ab',\n",
       " '4am',\n",
       " '4box',\n",
       " '4c',\n",
       " '4can',\n",
       " '4capsul',\n",
       " '4count',\n",
       " '4g',\n",
       " '4hour',\n",
       " '4lb',\n",
       " '4leg',\n",
       " '4me',\n",
       " '4mi',\n",
       " '4ounc',\n",
       " '4oz',\n",
       " '4paw',\n",
       " '4pound',\n",
       " '4star',\n",
       " '4th',\n",
       " '4x',\n",
       " '4year',\n",
       " '5',\n",
       " '50',\n",
       " '500',\n",
       " '5000',\n",
       " '50053',\n",
       " '50057',\n",
       " '500f',\n",
       " '5050',\n",
       " '50decaf',\n",
       " '50pack',\n",
       " '50pound',\n",
       " '50so',\n",
       " '50th',\n",
       " '51',\n",
       " '510',\n",
       " '512',\n",
       " '512ounc',\n",
       " '5162',\n",
       " '52',\n",
       " '5200',\n",
       " '524',\n",
       " '5284',\n",
       " '53',\n",
       " '53oz',\n",
       " '54',\n",
       " '544',\n",
       " '54ounc',\n",
       " '54oz',\n",
       " '55',\n",
       " '550',\n",
       " '55ounc',\n",
       " '56',\n",
       " '566',\n",
       " '56ozum',\n",
       " '57',\n",
       " '570',\n",
       " '58',\n",
       " '59',\n",
       " '598',\n",
       " '5999',\n",
       " '5am',\n",
       " '5count',\n",
       " '5ct',\n",
       " '5dog',\n",
       " '5dogmom',\n",
       " '5g',\n",
       " '5h1t',\n",
       " '5hour',\n",
       " '5lb',\n",
       " '5lber',\n",
       " '5minut',\n",
       " '5monthold',\n",
       " '5ounc',\n",
       " '5pack',\n",
       " '5pound',\n",
       " '5s',\n",
       " '5star',\n",
       " '5stick',\n",
       " '5th',\n",
       " '5the',\n",
       " '5x',\n",
       " '5year',\n",
       " '5yr',\n",
       " '5yrold',\n",
       " '6',\n",
       " '60',\n",
       " '600',\n",
       " '600ml',\n",
       " '60count',\n",
       " '60ct',\n",
       " '60g',\n",
       " '60oz',\n",
       " '60serv',\n",
       " '60th',\n",
       " '61',\n",
       " '61008',\n",
       " '625',\n",
       " '629lb',\n",
       " '63',\n",
       " '638',\n",
       " '64',\n",
       " '640',\n",
       " '6444',\n",
       " '6462',\n",
       " '64ounc',\n",
       " '64oz',\n",
       " '64pack',\n",
       " '65',\n",
       " '650',\n",
       " '65ounc',\n",
       " '65oz',\n",
       " '65th',\n",
       " '66',\n",
       " '66ounc',\n",
       " '68g',\n",
       " '68oz',\n",
       " '697',\n",
       " '699',\n",
       " '6count',\n",
       " '6fals',\n",
       " '6flavor',\n",
       " '6g',\n",
       " '6jar',\n",
       " '6lb',\n",
       " '6onli',\n",
       " '6ounc',\n",
       " '6oz',\n",
       " '6pack',\n",
       " '6piec',\n",
       " '6pk',\n",
       " '6pound',\n",
       " '6star',\n",
       " '6th',\n",
       " '6year',\n",
       " '6yearold',\n",
       " '6yo',\n",
       " '7',\n",
       " '70',\n",
       " '700',\n",
       " '700ct',\n",
       " '703',\n",
       " '709',\n",
       " '70count',\n",
       " '70mg',\n",
       " '70th',\n",
       " '710mg',\n",
       " '711',\n",
       " '72',\n",
       " '725ounc',\n",
       " '7270',\n",
       " '73',\n",
       " '737',\n",
       " '74',\n",
       " '749',\n",
       " '75',\n",
       " '750',\n",
       " '750ml',\n",
       " '75count',\n",
       " '75lb',\n",
       " '75ounc',\n",
       " '76',\n",
       " '774',\n",
       " '775ounc',\n",
       " '777',\n",
       " '78',\n",
       " '7810',\n",
       " '79',\n",
       " '799',\n",
       " '799lb',\n",
       " '7count',\n",
       " '7d',\n",
       " '7g',\n",
       " '7grain',\n",
       " '7month',\n",
       " '7ounc',\n",
       " '7th',\n",
       " '7up',\n",
       " '7yearold',\n",
       " '8',\n",
       " '80',\n",
       " '800',\n",
       " '800g',\n",
       " '800pm',\n",
       " '80count',\n",
       " '80ct',\n",
       " '80cup',\n",
       " '81',\n",
       " '810',\n",
       " '811',\n",
       " '812ounc',\n",
       " '8150',\n",
       " '8192011',\n",
       " '82',\n",
       " '82409',\n",
       " '83',\n",
       " '8300',\n",
       " '832',\n",
       " '838',\n",
       " '839',\n",
       " '83cup',\n",
       " '83ounc',\n",
       " '84',\n",
       " '845',\n",
       " '84ounc',\n",
       " '85',\n",
       " '850',\n",
       " '85794',\n",
       " '85ounc',\n",
       " '85oz',\n",
       " '86',\n",
       " '88',\n",
       " '88ounc',\n",
       " '88oz',\n",
       " '897',\n",
       " '8am',\n",
       " '8count',\n",
       " '8g',\n",
       " '8inch',\n",
       " '8lb',\n",
       " '8o',\n",
       " '8oclock',\n",
       " '8ounc',\n",
       " '8oz',\n",
       " '8pack',\n",
       " '8serv',\n",
       " '8th',\n",
       " '8yearold',\n",
       " '9',\n",
       " '90',\n",
       " '900',\n",
       " '90000',\n",
       " '909',\n",
       " '9095',\n",
       " '90calori',\n",
       " '90ct',\n",
       " '90th',\n",
       " '910',\n",
       " '9102010',\n",
       " '911',\n",
       " '92',\n",
       " '925',\n",
       " '93',\n",
       " '932',\n",
       " '95',\n",
       " '95ounc',\n",
       " '95percent',\n",
       " '95ph',\n",
       " '96',\n",
       " '9645',\n",
       " '9699',\n",
       " '97',\n",
       " '97ounc',\n",
       " '98',\n",
       " '98100',\n",
       " '9827',\n",
       " '985',\n",
       " '99',\n",
       " '995',\n",
       " '999',\n",
       " '999lb',\n",
       " '9greenbox',\n",
       " '9greenboxadenium',\n",
       " '9inch',\n",
       " '9live',\n",
       " '9month',\n",
       " '9oz',\n",
       " '9pound',\n",
       " '9th',\n",
       " '9wk',\n",
       " 'a1',\n",
       " 'aa',\n",
       " 'aaa',\n",
       " 'aaaa',\n",
       " 'aaaaa',\n",
       " 'aaaaaaaaaaaa',\n",
       " 'aaaaaaaaaaacccckkkkk',\n",
       " 'aaaaaaaaaaahhhhhhhhhhhhh',\n",
       " 'aaaaaagggghhhh',\n",
       " 'aaaaaamaz',\n",
       " 'aaaah',\n",
       " 'aaaahhhhh',\n",
       " 'aaaamaaaaz',\n",
       " 'aaaammmmaaaaazziiiinnnnggg',\n",
       " 'aaaarrrrrgggghhhhh',\n",
       " 'aaah',\n",
       " 'aaahhh',\n",
       " 'aaamaz',\n",
       " 'aachen',\n",
       " 'aack',\n",
       " 'aah',\n",
       " 'aahh',\n",
       " 'aardvark',\n",
       " 'aat',\n",
       " 'aawesom',\n",
       " 'ab',\n",
       " 'abacor',\n",
       " 'abalon',\n",
       " 'abandon',\n",
       " 'abb',\n",
       " 'abbey',\n",
       " 'abbi',\n",
       " 'abbott',\n",
       " 'abc',\n",
       " 'abctoy4m',\n",
       " 'abd',\n",
       " 'abdomin',\n",
       " 'abeg',\n",
       " 'abfab',\n",
       " 'abi',\n",
       " 'abid',\n",
       " ...]"
      ]
     },
     "execution_count": 32,
     "metadata": {},
     "output_type": "execute_result"
    }
   ],
   "source": [
    "vect.get_feature_names()"
   ]
  },
  {
   "cell_type": "code",
   "execution_count": 33,
   "metadata": {
    "collapsed": true
   },
   "outputs": [],
   "source": [
    "# transform train data\n",
    "X_train_bog = vect.transform(x_train)"
   ]
  },
  {
   "cell_type": "code",
   "execution_count": 34,
   "metadata": {
    "collapsed": false
   },
   "outputs": [
    {
     "data": {
      "text/plain": [
       "<394329x28247 sparse matrix of type '<class 'numpy.int64'>'\n",
       "\twith 1113625 stored elements in Compressed Sparse Row format>"
      ]
     },
     "execution_count": 34,
     "metadata": {},
     "output_type": "execute_result"
    }
   ],
   "source": [
    "X_train_bog"
   ]
  },
  {
   "cell_type": "code",
   "execution_count": 35,
   "metadata": {
    "collapsed": false
   },
   "outputs": [
    {
     "data": {
      "text/plain": [
       "<131444x28247 sparse matrix of type '<class 'numpy.int64'>'\n",
       "\twith 365612 stored elements in Compressed Sparse Row format>"
      ]
     },
     "execution_count": 35,
     "metadata": {},
     "output_type": "execute_result"
    }
   ],
   "source": [
    "# transform test data to bog\n",
    "X_test_bog = vect.transform(x_test)\n",
    "X_test_bog"
   ]
  },
  {
   "cell_type": "markdown",
   "metadata": {},
   "source": [
    "### Function to plot the confusion matrix"
   ]
  },
  {
   "cell_type": "code",
   "execution_count": 36,
   "metadata": {
    "collapsed": true
   },
   "outputs": [],
   "source": [
    "import itertools\n",
    "import numpy as np\n",
    "import matplotlib.pyplot as plt\n",
    "from sklearn.metrics import confusion_matrix\n",
    "plt.rcParams[\"font.family\"] = 'DejaVu Sans'\n",
    "\n",
    "def plot_confusion_matrix(cm, classes,\n",
    "                          normalize=False,\n",
    "                          title='Confusion matrix',\n",
    "                          cmap=plt.cm.Blues):\n",
    "    if normalize:\n",
    "        cm = cm.astype('float') / cm.sum(axis=1)[:, np.newaxis]\n",
    "\n",
    "    plt.imshow(cm, interpolation='nearest', cmap=cmap)\n",
    "    plt.title(title)\n",
    "    plt.colorbar()\n",
    "    tick_marks = np.arange(len(classes))\n",
    "    plt.xticks(tick_marks, classes, rotation=90)\n",
    "    plt.yticks(tick_marks, classes)\n",
    "\n",
    "    fmt = '.2f' if normalize else 'd'\n",
    "    thresh = cm.max() / 2.\n",
    "    for i, j in itertools.product(range(cm.shape[0]), range(cm.shape[1])):\n",
    "        plt.text(j, i, format(cm[i, j], fmt),\n",
    "                 horizontalalignment=\"center\",\n",
    "                 color=\"white\" if cm[i, j] > thresh else \"black\")\n",
    "\n",
    "    plt.tight_layout()\n",
    "    plt.ylabel('True label')\n",
    "    plt.xlabel('Predicted label')"
   ]
  },
  {
   "cell_type": "markdown",
   "metadata": {},
   "source": [
    "### Generic function to run any model specified"
   ]
  },
  {
   "cell_type": "code",
   "execution_count": 37,
   "metadata": {
    "collapsed": true
   },
   "outputs": [],
   "source": [
    "from datetime import datetime\n",
    "def perform_model(model, X_train, y_train, X_test, y_test, class_labels, cm_normalize=True, \\\n",
    "                 print_cm=True, cm_cmap=plt.cm.Blues):\n",
    "    \n",
    "    \n",
    "    # to store results at various phases\n",
    "    results = dict()\n",
    "    \n",
    "    # time at which model starts training \n",
    "    train_start_time = datetime.now()\n",
    "    print('training the model..')\n",
    "    model.fit(X_train, y_train)\n",
    "    print('Done \\n \\n')\n",
    "    train_end_time = datetime.now()\n",
    "    results['training_time'] =  train_end_time - train_start_time\n",
    "    print('training_time(HH:MM:SS.ms) - {}\\n\\n'.format(results['training_time']))\n",
    "    \n",
    "    \n",
    "    # predict test data\n",
    "    print('Predicting test data')\n",
    "    test_start_time = datetime.now()\n",
    "    y_pred = model.predict(X_test)\n",
    "    test_end_time = datetime.now()\n",
    "    print('Done \\n \\n')\n",
    "    results['testing_time'] = test_end_time - test_start_time\n",
    "    print('testing time(HH:MM:SS:ms) - {}\\n\\n'.format(results['testing_time']))\n",
    "    results['predicted'] = y_pred\n",
    "   \n",
    "\n",
    "    # calculate overall accuracty of the model\n",
    "    accuracy = metrics.accuracy_score(y_true=y_test, y_pred=y_pred)\n",
    "    # store accuracy in results\n",
    "    results['accuracy'] = accuracy\n",
    "    print('---------------------')\n",
    "    print('|      Accuracy      |')\n",
    "    print('---------------------')\n",
    "    print('\\n    {}\\n\\n'.format(accuracy))\n",
    "    \n",
    "    \n",
    "    # confusion matrix\n",
    "    cm = metrics.confusion_matrix(y_test, y_pred)\n",
    "    results['confusion_matrix'] = cm\n",
    "    if print_cm: \n",
    "        print('--------------------')\n",
    "        print('| Confusion Matrix |')\n",
    "        print('--------------------')\n",
    "        print('\\n {}'.format(cm))\n",
    "        \n",
    "    # plot confusin matrix\n",
    "    plt.figure(figsize=(8,8))\n",
    "    plt.grid(b=False)\n",
    "    plot_confusion_matrix(cm, classes=class_labels, normalize=True, title='Normalized confusion matrix', cmap = cm_cmap)\n",
    "    plt.show()\n",
    "    \n",
    "    # get classification report\n",
    "    print('-------------------------')\n",
    "    print('| Classifiction Report |')\n",
    "    print('-------------------------')\n",
    "    classification_report = metrics.classification_report(y_test, y_pred)\n",
    "    # store report in results\n",
    "    results['classification_report'] = classification_report\n",
    "    print(classification_report)\n",
    "    \n",
    "    # add the trained  model to the results\n",
    "    results['model'] = model\n",
    "    \n",
    "    return results\n",
    "    \n",
    "    "
   ]
  },
  {
   "cell_type": "markdown",
   "metadata": {},
   "source": [
    "### Method to print the gridsearch Attributes"
   ]
  },
  {
   "cell_type": "code",
   "execution_count": 38,
   "metadata": {
    "collapsed": true
   },
   "outputs": [],
   "source": [
    "def print_grid_search_attributes(model):\n",
    "    # Estimator that gave highest score among all the estimators formed in GridSearch\n",
    "    print('--------------------------')\n",
    "    print('|      Best Estimator     |')\n",
    "    print('--------------------------')\n",
    "    print('\\n\\t{}\\n'.format(model.best_estimator_))\n",
    "\n",
    "\n",
    "    # parameters that gave best results while performing grid search\n",
    "    print('--------------------------')\n",
    "    print('|     Best parameters     |')\n",
    "    print('--------------------------')\n",
    "    print('\\tParameters of best estimator : \\n\\n\\t{}\\n'.format(model.best_params_))\n",
    "\n",
    "\n",
    "    #  number of cross validation splits\n",
    "    print('---------------------------------')\n",
    "    print('|   No of CrossValidation sets   |')\n",
    "    print('--------------------------------')\n",
    "    print('\\n\\tTotal numbre of cross validation sets: {}\\n'.format(model.n_splits_))\n",
    "\n",
    "\n",
    "    # Average cross validated score of the best estimator, from the Grid Search \n",
    "    print('--------------------------')\n",
    "    print('|        Best Score       |')\n",
    "    print('--------------------------')\n",
    "    print('\\n\\tAverage Cross Validate scores of best estimator : \\n\\n\\t{}\\n'.format(model.best_score_))\n",
    "\n",
    "    \n",
    "    "
   ]
  },
  {
   "cell_type": "markdown",
   "metadata": {},
   "source": [
    "### Naive Bayes model"
   ]
  },
  {
   "cell_type": "code",
   "execution_count": 31,
   "metadata": {
    "collapsed": true
   },
   "outputs": [],
   "source": [
    "# import\n",
    "from sklearn.naive_bayes import MultinomialNB\n",
    "\n",
    "# instantiate a Multinomial Naive bayes model\n",
    "nb = MultinomialNB()"
   ]
  },
  {
   "cell_type": "code",
   "execution_count": 110,
   "metadata": {
    "collapsed": true
   },
   "outputs": [],
   "source": []
  },
  {
   "cell_type": "code",
   "execution_count": 108,
   "metadata": {
    "collapsed": true
   },
   "outputs": [],
   "source": [
    "labels = ['0','1']"
   ]
  },
  {
   "cell_type": "code",
   "execution_count": 113,
   "metadata": {
    "collapsed": false
   },
   "outputs": [
    {
     "name": "stdout",
     "output_type": "stream",
     "text": [
      "training the model..\n",
      "Done \n",
      " \n",
      "\n",
      "training_time(HH:MM:SS.ms) - 0:00:00.166028\n",
      "\n",
      "\n",
      "Predicting test data\n",
      "Done \n",
      " \n",
      "\n",
      "testing time(HH:MM:SS:ms) - 0:00:00.008853\n",
      "\n",
      "\n",
      "---------------------\n",
      "|      Accuracy      |\n",
      "---------------------\n",
      "\n",
      "    0.9058382276863151\n",
      "\n",
      "\n",
      "--------------------\n",
      "| Confusion Matrix |\n",
      "--------------------\n",
      "\n",
      " [[ 11564   8965]\n",
      " [  3412 107503]]\n"
     ]
    },
    {
     "data": {
      "image/png": "[encoded data removed]",
      "text/plain": [
       "<matplotlib.figure.Figure at 0x7ff3c0423940>"
      ]
     },
     "metadata": {},
     "output_type": "display_data"
    },
    {
     "name": "stdout",
     "output_type": "stream",
     "text": [
      "-------------------------\n",
      "| Classifiction Report |\n",
      "-------------------------\n",
      "             precision    recall  f1-score   support\n",
      "\n",
      "          0       0.77      0.56      0.65     20529\n",
      "          1       0.92      0.97      0.95    110915\n",
      "\n",
      "avg / total       0.90      0.91      0.90    131444\n",
      "\n"
     ]
    }
   ],
   "source": [
    "naive_bayes_results =  perform_model(nb, X_train_bog, Y_train, X_test_bog, Y_test, class_labels=labels)"
   ]
  },
  {
   "cell_type": "code",
   "execution_count": 42,
   "metadata": {
    "collapsed": true
   },
   "outputs": [],
   "source": [
    "fpr, tpr, thresholds = metrics.roc_curve(y_test, y_pred_prob)"
   ]
  },
  {
   "cell_type": "code",
   "execution_count": 43,
   "metadata": {
    "collapsed": true
   },
   "outputs": [],
   "source": [
    "import matplotlib.pyplot as plt"
   ]
  },
  {
   "cell_type": "code",
   "execution_count": 49,
   "metadata": {
    "collapsed": false
   },
   "outputs": [
    {
     "data": {
      "image/png": "[encoded data removed]",
      "text/plain": [
       "<matplotlib.figure.Figure at 0x7f9f7eb7f320>"
      ]
     },
     "metadata": {},
     "output_type": "display_data"
    }
   ],
   "source": [
    "plt.plot(fpr, tpr)\n",
    "plt.xlim([0.0, 1.0])\n",
    "plt.ylim([0.0, 1.0])\n",
    "plt.rcParams['font.size'] = 12\n",
    "plt.title('ROC curve for Amazon Reviews Sentiment Analysis')\n",
    "plt.xlabel('False Positive Rate (1 - Specificity)')\n",
    "plt.ylabel('True Positive Rate (Sensitivity)')\n",
    "plt.grid(True)\n",
    "plt.show()"
   ]
  },
  {
   "cell_type": "markdown",
   "metadata": {},
   "source": [
    "### Logistic Regression Model"
   ]
  },
  {
   "cell_type": "code",
   "execution_count": 118,
   "metadata": {
    "collapsed": true
   },
   "outputs": [],
   "source": [
    "from sklearn import linear_model"
   ]
  },
  {
   "cell_type": "code",
   "execution_count": 119,
   "metadata": {
    "collapsed": false
   },
   "outputs": [
    {
     "name": "stdout",
     "output_type": "stream",
     "text": [
      "training the model..\n",
      "Fitting 3 folds for each of 12 candidates, totalling 36 fits\n",
      "Done \n",
      " \n",
      "\n",
      "training_time(HH:MM:SS.ms) - 0:04:14.922552\n",
      "\n",
      "\n",
      "Predicting test data\n",
      "Done \n",
      " \n",
      "\n",
      "testing time(HH:MM:SS:ms) - 0:00:00.077003\n",
      "\n",
      "\n",
      "---------------------\n",
      "|      Accuracy      |\n",
      "---------------------\n",
      "\n",
      "    0.9137351267459907\n",
      "\n",
      "\n",
      "--------------------\n",
      "| Confusion Matrix |\n",
      "--------------------\n",
      "\n",
      " [[ 12261   8268]\n",
      " [  3071 107844]]\n"
     ]
    },
    {
     "name": "stderr",
     "output_type": "stream",
     "text": [
      "[Parallel(n_jobs=-1)]: Done  36 out of  36 | elapsed:  2.5min finished\n"
     ]
    },
    {
     "data": {
      "image/png": "[encoded data removed]",
      "text/plain": [
       "<matplotlib.figure.Figure at 0x7ff3d505c320>"
      ]
     },
     "metadata": {},
     "output_type": "display_data"
    },
    {
     "name": "stdout",
     "output_type": "stream",
     "text": [
      "-------------------------\n",
      "| Classifiction Report |\n",
      "-------------------------\n",
      "             precision    recall  f1-score   support\n",
      "\n",
      "          0       0.80      0.60      0.68     20529\n",
      "          1       0.93      0.97      0.95    110915\n",
      "\n",
      "avg / total       0.91      0.91      0.91    131444\n",
      "\n"
     ]
    }
   ],
   "source": [
    "# start Grid search\n",
    "parameters = {'C':[0.01, 0.1, 1, 10, 20, 30], 'penalty':['l2','l1']}\n",
    "logr = linear_model.LogisticRegression()\n",
    "log_reg_grid = GridSearchCV(logr, param_grid=parameters, cv=3, verbose=1, n_jobs=-1)\n",
    "log_reg_grid_results =  perform_model(log_reg_grid,X_train_bog, Y_train, X_test_bog, Y_test, class_labels=labels)"
   ]
  },
  {
   "cell_type": "code",
   "execution_count": 124,
   "metadata": {
    "collapsed": false
   },
   "outputs": [
    {
     "data": {
      "image/png": "[encoded data removed]",
      "text/plain": [
       "<matplotlib.figure.Figure at 0x7ff3c0212c88>"
      ]
     },
     "metadata": {},
     "output_type": "display_data"
    }
   ],
   "source": [
    "plt.figure(figsize=(8,8))\n",
    "plt.grid(b=False)\n",
    "plot_confusion_matrix(log_reg_grid_results['confusion_matrix'], classes=labels, cmap=plt.cm.Blues, )\n",
    "plt.show()"
   ]
  },
  {
   "cell_type": "code",
   "execution_count": 120,
   "metadata": {
    "collapsed": false
   },
   "outputs": [
    {
     "name": "stdout",
     "output_type": "stream",
     "text": [
      "--------------------------\n",
      "|      Best Estimator     |\n",
      "--------------------------\n",
      "\n",
      "\tLogisticRegression(C=10, class_weight=None, dual=False, fit_intercept=True,\n",
      "          intercept_scaling=1, max_iter=100, multi_class='ovr', n_jobs=1,\n",
      "          penalty='l2', random_state=None, solver='liblinear', tol=0.0001,\n",
      "          verbose=0, warm_start=False)\n",
      "\n",
      "--------------------------\n",
      "|     Best parameters     |\n",
      "--------------------------\n",
      "\tParameters of best estimator : \n",
      "\n",
      "\t{'C': 10, 'penalty': 'l2'}\n",
      "\n",
      "---------------------------------\n",
      "|   No of CrossValidation sets   |\n",
      "--------------------------------\n",
      "\n",
      "\tTotal numbre of cross validation sets: 3\n",
      "\n",
      "--------------------------\n",
      "|        Best Score       |\n",
      "--------------------------\n",
      "\n",
      "\tAverage Cross Validate scores of best estimator : \n",
      "\n",
      "\t0.9125248206446901\n",
      "\n"
     ]
    }
   ],
   "source": [
    "# observe the attributes of the model \n",
    "print_grid_search_attributes(log_reg_grid_results['model'])"
   ]
  },
  {
   "cell_type": "markdown",
   "metadata": {},
   "source": [
    "### Linear SVM Model"
   ]
  },
  {
   "cell_type": "code",
   "execution_count": 129,
   "metadata": {
    "collapsed": true
   },
   "outputs": [],
   "source": [
    "from sklearn.svm import LinearSVC"
   ]
  },
  {
   "cell_type": "code",
   "execution_count": 130,
   "metadata": {
    "collapsed": false
   },
   "outputs": [
    {
     "name": "stdout",
     "output_type": "stream",
     "text": [
      "training the model..\n",
      "Fitting 3 folds for each of 6 candidates, totalling 18 fits\n",
      "Done \n",
      " \n",
      "\n",
      "training_time(HH:MM:SS.ms) - 0:04:30.683234\n",
      "\n",
      "\n",
      "Predicting test data\n",
      "Done \n",
      " \n",
      "\n",
      "testing time(HH:MM:SS:ms) - 0:00:00.003741\n",
      "\n",
      "\n",
      "---------------------\n",
      "|      Accuracy      |\n",
      "---------------------\n",
      "\n",
      "    0.9129286996743861\n",
      "\n",
      "\n",
      "--------------------\n",
      "| Confusion Matrix |\n",
      "--------------------\n",
      "\n",
      " [[ 11725   8804]\n",
      " [  2641 108274]]\n"
     ]
    },
    {
     "name": "stderr",
     "output_type": "stream",
     "text": [
      "[Parallel(n_jobs=-1)]: Done  18 out of  18 | elapsed:  3.9min finished\n"
     ]
    },
    {
     "data": {
      "image/png": "[encoded data removed]",
      "text/plain": [
       "<matplotlib.figure.Figure at 0x7ff3cb570ac8>"
      ]
     },
     "metadata": {},
     "output_type": "display_data"
    },
    {
     "name": "stdout",
     "output_type": "stream",
     "text": [
      "-------------------------\n",
      "| Classifiction Report |\n",
      "-------------------------\n",
      "             precision    recall  f1-score   support\n",
      "\n",
      "          0       0.82      0.57      0.67     20529\n",
      "          1       0.92      0.98      0.95    110915\n",
      "\n",
      "avg / total       0.91      0.91      0.91    131444\n",
      "\n"
     ]
    }
   ],
   "source": [
    "parameters = {'C':[0.125, 0.5, 1, 2, 8, 16]}\n",
    "lr_svc = LinearSVC(tol=0.00005)\n",
    "lr_svc_grid = GridSearchCV(lr_svc, param_grid=parameters, n_jobs=-1, verbose=1)\n",
    "lr_svc_grid_results = perform_model(lr_svc_grid, X_train_bog, Y_train, X_test_bog, Y_test, class_labels=labels)"
   ]
  },
  {
   "cell_type": "code",
   "execution_count": 131,
   "metadata": {
    "collapsed": false
   },
   "outputs": [
    {
     "name": "stdout",
     "output_type": "stream",
     "text": [
      "--------------------------\n",
      "|      Best Estimator     |\n",
      "--------------------------\n",
      "\n",
      "\tLinearSVC(C=0.5, class_weight=None, dual=True, fit_intercept=True,\n",
      "     intercept_scaling=1, loss='squared_hinge', max_iter=1000,\n",
      "     multi_class='ovr', penalty='l2', random_state=None, tol=5e-05,\n",
      "     verbose=0)\n",
      "\n",
      "--------------------------\n",
      "|     Best parameters     |\n",
      "--------------------------\n",
      "\tParameters of best estimator : \n",
      "\n",
      "\t{'C': 0.5}\n",
      "\n",
      "---------------------------------\n",
      "|   No of CrossValidation sets   |\n",
      "--------------------------------\n",
      "\n",
      "\tTotal numbre of cross validation sets: 3\n",
      "\n",
      "--------------------------\n",
      "|        Best Score       |\n",
      "--------------------------\n",
      "\n",
      "\tAverage Cross Validate scores of best estimator : \n",
      "\n",
      "\t0.9117209233913813\n",
      "\n"
     ]
    }
   ],
   "source": [
    "print_grid_search_attributes(lr_svc_grid_results['model'])"
   ]
  },
  {
   "cell_type": "code",
   "execution_count": null,
   "metadata": {
    "collapsed": true
   },
   "outputs": [],
   "source": []
  },
  {
   "cell_type": "markdown",
   "metadata": {},
   "source": [
    "### SVM with rbf kernel"
   ]
  },
  {
   "cell_type": "code",
   "execution_count": 132,
   "metadata": {
    "collapsed": false
   },
   "outputs": [
    {
     "data": {
      "text/plain": [
       "(525773, 14)"
      ]
     },
     "execution_count": 132,
     "metadata": {},
     "output_type": "execute_result"
    }
   ],
   "source": [
    "df.shape"
   ]
  },
  {
   "cell_type": "markdown",
   "metadata": {},
   "source": [
    "- **SVM with rbf kernel is computationally very expensive as the dataset is very large**\n",
    "- **We can randomly sample the dataset to 5% of the original and train SVM with rbf kernel**"
   ]
  },
  {
   "cell_type": "code",
   "execution_count": 133,
   "metadata": {
    "collapsed": true
   },
   "outputs": [],
   "source": [
    "df1 = df.sample(frac=0.05)"
   ]
  },
  {
   "cell_type": "code",
   "execution_count": 134,
   "metadata": {
    "collapsed": false
   },
   "outputs": [
    {
     "data": {
      "text/plain": [
       "26289"
      ]
     },
     "execution_count": 134,
     "metadata": {},
     "output_type": "execute_result"
    }
   ],
   "source": [
    "len(df1)"
   ]
  },
  {
   "cell_type": "code",
   "execution_count": 135,
   "metadata": {
    "collapsed": true
   },
   "outputs": [],
   "source": [
    "X1 = df1['Summary']\n",
    "Y1 = df1['review']"
   ]
  },
  {
   "cell_type": "code",
   "execution_count": 136,
   "metadata": {
    "collapsed": false
   },
   "outputs": [
    {
     "name": "stdout",
     "output_type": "stream",
     "text": [
      "(26289,)\n",
      "(26289,)\n"
     ]
    }
   ],
   "source": [
    "print(X1.shape)\n",
    "print(Y1.shape)"
   ]
  },
  {
   "cell_type": "code",
   "execution_count": 137,
   "metadata": {
    "collapsed": false
   },
   "outputs": [
    {
     "data": {
      "text/plain": [
       "193542                       Great taste!\n",
       "541146                Agava Nectar  Light\n",
       "314127    Great for pasta and pizza dough\n",
       "323447                Cures munchies*****\n",
       "11443                    wedding pretzels\n",
       "Name: Summary, dtype: object"
      ]
     },
     "execution_count": 137,
     "metadata": {},
     "output_type": "execute_result"
    }
   ],
   "source": [
    "X1.head()"
   ]
  },
  {
   "cell_type": "code",
   "execution_count": 138,
   "metadata": {
    "collapsed": true
   },
   "outputs": [],
   "source": [
    "# split X and y into training and testing sets\n",
    "# by default, it splits 75% training and 25% test\n",
    "# random_state=1 for reproducibility\n",
    "X1_train, X1_test, y1_train, y1_test = train_test_split(X1, Y1, random_state=1)"
   ]
  },
  {
   "cell_type": "code",
   "execution_count": 139,
   "metadata": {
    "collapsed": false
   },
   "outputs": [
    {
     "name": "stdout",
     "output_type": "stream",
     "text": [
      "(19716,)\n",
      "(6573,)\n",
      "(19716,)\n",
      "(6573,)\n"
     ]
    }
   ],
   "source": [
    "print(X1_train.shape)\n",
    "print(X1_test.shape)\n",
    "print(y1_train.shape)\n",
    "print(y1_test.shape)"
   ]
  },
  {
   "cell_type": "code",
   "execution_count": 140,
   "metadata": {
    "collapsed": true
   },
   "outputs": [],
   "source": [
    "x1_train = X1_train.values.tolist()\n",
    "Y1_train = y1_train.values.tolist()\n",
    "x1_test = X1_test.values.tolist()\n",
    "Y1_test = y1_test.values.tolist()"
   ]
  },
  {
   "cell_type": "code",
   "execution_count": 141,
   "metadata": {
    "collapsed": false
   },
   "outputs": [
    {
     "data": {
      "text/plain": [
       "CountVectorizer(analyzer='word', binary=False, decode_error='strict',\n",
       "        dtype=<class 'numpy.int64'>, encoding='utf-8', input='content',\n",
       "        lowercase=True, max_df=1.0, max_features=None, min_df=1,\n",
       "        ngram_range=(1, 1), preprocessor=None, stop_words='english',\n",
       "        strip_accents=None, token_pattern='(?u)\\\\b\\\\w\\\\w+\\\\b',\n",
       "        tokenizer=<function tokenize at 0x7ff3c1983d90>, vocabulary=None)"
      ]
     },
     "execution_count": 141,
     "metadata": {},
     "output_type": "execute_result"
    }
   ],
   "source": [
    "# fit\n",
    "# learn the 'vocabulary' of the training data\n",
    "vect.fit(x1_train)"
   ]
  },
  {
   "cell_type": "code",
   "execution_count": 142,
   "metadata": {
    "collapsed": false
   },
   "outputs": [
    {
     "data": {
      "text/plain": [
       "['0',\n",
       " '05',\n",
       " '0631',\n",
       " '0s',\n",
       " '0z',\n",
       " '1',\n",
       " '10',\n",
       " '100',\n",
       " '1000',\n",
       " '100calori',\n",
       " '102011',\n",
       " '105',\n",
       " '1050',\n",
       " '10count',\n",
       " '10oz',\n",
       " '11',\n",
       " '110',\n",
       " '11182011',\n",
       " '12',\n",
       " '120mg',\n",
       " '125',\n",
       " '125pound',\n",
       " '126oz',\n",
       " '128',\n",
       " '12gram',\n",
       " '12oz',\n",
       " '12pack',\n",
       " '13',\n",
       " '132ounc',\n",
       " '133',\n",
       " '1360',\n",
       " '14',\n",
       " '140',\n",
       " '1470mg',\n",
       " '1499',\n",
       " '14mo',\n",
       " '14yr',\n",
       " '15',\n",
       " '150awesom',\n",
       " '1519',\n",
       " '15oz',\n",
       " '16',\n",
       " '160',\n",
       " '16ounc',\n",
       " '17',\n",
       " '1723gallon',\n",
       " '180',\n",
       " '1866',\n",
       " '1877',\n",
       " '18month',\n",
       " '19',\n",
       " '192ouncepack',\n",
       " '1987',\n",
       " '199',\n",
       " '1oz',\n",
       " '1st',\n",
       " '2',\n",
       " '20',\n",
       " '200',\n",
       " '2008',\n",
       " '2010',\n",
       " '2011',\n",
       " '2012',\n",
       " '205',\n",
       " '208',\n",
       " '20ounc',\n",
       " '20pound',\n",
       " '21',\n",
       " '22',\n",
       " '2225',\n",
       " '229',\n",
       " '2399',\n",
       " '23oz',\n",
       " '24',\n",
       " '25',\n",
       " '250',\n",
       " '25count',\n",
       " '267',\n",
       " '2699',\n",
       " '27',\n",
       " '2725',\n",
       " '28mg',\n",
       " '29',\n",
       " '299',\n",
       " '2inch',\n",
       " '2nd',\n",
       " '2star',\n",
       " '3',\n",
       " '30',\n",
       " '3000',\n",
       " '30pack',\n",
       " '32',\n",
       " '32oz',\n",
       " '33ounc',\n",
       " '35',\n",
       " '350',\n",
       " '36',\n",
       " '3am',\n",
       " '3g',\n",
       " '3ounc',\n",
       " '3rd',\n",
       " '3yearold',\n",
       " '3yo',\n",
       " '4',\n",
       " '40',\n",
       " '40th',\n",
       " '40year',\n",
       " '42',\n",
       " '425',\n",
       " '45',\n",
       " '45ounc',\n",
       " '48',\n",
       " '495',\n",
       " '4c',\n",
       " '4count',\n",
       " '4lb',\n",
       " '4star',\n",
       " '4th',\n",
       " '5',\n",
       " '50',\n",
       " '54',\n",
       " '54ounc',\n",
       " '54oz',\n",
       " '55ounc',\n",
       " '5hour',\n",
       " '5lb',\n",
       " '5minut',\n",
       " '5ounc',\n",
       " '5star',\n",
       " '6',\n",
       " '60',\n",
       " '60g',\n",
       " '625',\n",
       " '63',\n",
       " '64ounc',\n",
       " '65',\n",
       " '7',\n",
       " '70',\n",
       " '70mg',\n",
       " '70th',\n",
       " '75',\n",
       " '79',\n",
       " '7grain',\n",
       " '7ounc',\n",
       " '7th',\n",
       " '7up',\n",
       " '8',\n",
       " '80',\n",
       " '83',\n",
       " '84',\n",
       " '85',\n",
       " '8ounc',\n",
       " '9',\n",
       " '90',\n",
       " '9095',\n",
       " '90calori',\n",
       " '95',\n",
       " '95percent',\n",
       " '96',\n",
       " '98',\n",
       " '995',\n",
       " '999',\n",
       " '9th',\n",
       " 'a1',\n",
       " 'a1steak',\n",
       " 'aaaah',\n",
       " 'aawesom',\n",
       " 'abandon',\n",
       " 'abbazaba',\n",
       " 'abc',\n",
       " 'abfab',\n",
       " 'abl',\n",
       " 'abolut',\n",
       " 'abomin',\n",
       " 'abound',\n",
       " 'abov',\n",
       " 'absenc',\n",
       " 'absinth',\n",
       " 'abslut',\n",
       " 'absolut',\n",
       " 'absorb',\n",
       " 'absot',\n",
       " 'absoult',\n",
       " 'acai',\n",
       " 'accept',\n",
       " 'accid',\n",
       " 'accompani',\n",
       " 'accord',\n",
       " 'accur',\n",
       " 'ach',\n",
       " 'acheiv',\n",
       " 'acid',\n",
       " 'acquir',\n",
       " 'act',\n",
       " 'action',\n",
       " 'activ',\n",
       " 'actual',\n",
       " 'ad',\n",
       " 'add',\n",
       " 'addicit',\n",
       " 'addict',\n",
       " 'addit',\n",
       " 'ade',\n",
       " 'adequ',\n",
       " 'adher',\n",
       " 'adjust',\n",
       " 'adobo',\n",
       " 'adolph',\n",
       " 'ador',\n",
       " 'adult',\n",
       " 'adventur',\n",
       " 'adver',\n",
       " 'advers',\n",
       " 'advertis',\n",
       " 'advertisementveri',\n",
       " 'advic',\n",
       " 'advis',\n",
       " 'aerat',\n",
       " 'aero',\n",
       " 'aerogarden',\n",
       " 'aesthet',\n",
       " 'affect',\n",
       " 'affor',\n",
       " 'afford',\n",
       " 'african',\n",
       " 'afterlif',\n",
       " 'afternoon',\n",
       " 'aftertast',\n",
       " 'aftertastebak',\n",
       " 'aftertastenot',\n",
       " 'aftertastethen',\n",
       " 'agar',\n",
       " 'agav',\n",
       " 'agava',\n",
       " 'age',\n",
       " 'agent',\n",
       " 'aggress',\n",
       " 'ago',\n",
       " 'agrav',\n",
       " 'agre',\n",
       " 'agress',\n",
       " 'ah',\n",
       " 'ahead',\n",
       " 'ahem',\n",
       " 'ahhhh',\n",
       " 'ahhhhhhh',\n",
       " 'ahmad',\n",
       " 'ahoy',\n",
       " 'aid',\n",
       " 'ail',\n",
       " 'aint',\n",
       " 'aioli',\n",
       " 'air',\n",
       " 'airi',\n",
       " 'airlin',\n",
       " 'airplan',\n",
       " 'ak',\n",
       " 'aka',\n",
       " 'al',\n",
       " 'ala',\n",
       " 'alaea',\n",
       " 'albacor',\n",
       " 'alcohol',\n",
       " 'alderwood',\n",
       " 'ale',\n",
       " 'alert',\n",
       " 'alessi',\n",
       " 'alfi',\n",
       " 'alfredo',\n",
       " 'alien',\n",
       " 'alik',\n",
       " 'aliv',\n",
       " 'aliveit',\n",
       " 'alkalin',\n",
       " 'alland',\n",
       " 'alleg',\n",
       " 'allen',\n",
       " 'allerg',\n",
       " 'allergen',\n",
       " 'allergenfre',\n",
       " 'allergi',\n",
       " 'allergiessensit',\n",
       " 'alll',\n",
       " 'allnatur',\n",
       " 'allow',\n",
       " 'allpurpos',\n",
       " 'alltim',\n",
       " 'alma',\n",
       " 'almcashflax',\n",
       " 'almond',\n",
       " 'almondhazelnut',\n",
       " 'alo',\n",
       " 'alon',\n",
       " 'aloooooooha',\n",
       " 'alot',\n",
       " 'aloud',\n",
       " 'alpaca',\n",
       " 'alpin',\n",
       " 'alpo',\n",
       " 'alreadi',\n",
       " 'alright',\n",
       " 'alter',\n",
       " 'altern',\n",
       " 'altoid',\n",
       " 'alton',\n",
       " 'altura',\n",
       " 'aluminum',\n",
       " 'alway',\n",
       " 'amaranth',\n",
       " 'amaretto',\n",
       " 'amaz',\n",
       " 'amaziingli',\n",
       " 'amazingbett',\n",
       " 'amazingli',\n",
       " 'amazingtru',\n",
       " 'amazon',\n",
       " 'amazoncom',\n",
       " 'amazoncomsmokehous',\n",
       " 'amber',\n",
       " 'ambigu',\n",
       " 'ambrosia',\n",
       " 'ambrosolihoneesenergi',\n",
       " 'america',\n",
       " 'american',\n",
       " 'americolor',\n",
       " 'ami',\n",
       " 'amish',\n",
       " 'ammonium',\n",
       " 'amo',\n",
       " 'amz',\n",
       " 'anasazi',\n",
       " 'ancho',\n",
       " 'anchovi',\n",
       " 'ancient',\n",
       " 'andor',\n",
       " 'angelina',\n",
       " 'angostura',\n",
       " 'angri',\n",
       " 'ani',\n",
       " 'anim',\n",
       " 'animalfre',\n",
       " 'anita',\n",
       " 'anna',\n",
       " 'anni',\n",
       " 'anniversari',\n",
       " 'anoth',\n",
       " 'answer',\n",
       " 'ant',\n",
       " 'anthoni',\n",
       " 'anti',\n",
       " 'anticlimact',\n",
       " 'antifatigu',\n",
       " 'antinausea',\n",
       " 'antioxid',\n",
       " 'antipasta',\n",
       " 'antiperspir',\n",
       " 'antiqu',\n",
       " 'anxieti',\n",
       " 'anxious',\n",
       " 'anybodi',\n",
       " 'anymor',\n",
       " 'anyon',\n",
       " 'anyth',\n",
       " 'anytim',\n",
       " 'anywher',\n",
       " 'apart',\n",
       " 'appar',\n",
       " 'appeal',\n",
       " 'appear',\n",
       " 'appet',\n",
       " 'appetit',\n",
       " 'appian',\n",
       " 'appl',\n",
       " 'applesauc',\n",
       " 'appletini',\n",
       " 'applewood',\n",
       " 'appley',\n",
       " 'applic',\n",
       " 'approach',\n",
       " 'appropri',\n",
       " 'approv',\n",
       " 'approvedown',\n",
       " 'apricot',\n",
       " 'aptli',\n",
       " 'aquafina',\n",
       " 'area',\n",
       " 'areasooo',\n",
       " 'arent',\n",
       " 'areveri',\n",
       " 'arf',\n",
       " 'arg',\n",
       " 'arguabl',\n",
       " 'arizona',\n",
       " 'arnold',\n",
       " 'aroma',\n",
       " 'aromat',\n",
       " 'aromatherapi',\n",
       " 'arrang',\n",
       " 'arriba',\n",
       " 'arriv',\n",
       " 'arrowhead',\n",
       " 'arrowroot',\n",
       " 'artic',\n",
       " 'artichok',\n",
       " 'artif',\n",
       " 'artifici',\n",
       " 'artificialtast',\n",
       " 'artist',\n",
       " 'ascieeeeeeeeeeee',\n",
       " 'ascorb',\n",
       " 'ash',\n",
       " 'asi',\n",
       " 'asia',\n",
       " 'ask',\n",
       " 'asparagu',\n",
       " 'aspartam',\n",
       " 'aspartamefre',\n",
       " 'aspertam',\n",
       " 'ass',\n",
       " 'assembl',\n",
       " 'assort',\n",
       " 'astound',\n",
       " 'astring',\n",
       " 'astronaut',\n",
       " 'asum',\n",
       " 'ate',\n",
       " 'atkin',\n",
       " 'atom',\n",
       " 'attempt',\n",
       " 'attent',\n",
       " 'attract',\n",
       " 'aug',\n",
       " 'august',\n",
       " 'aulent',\n",
       " 'aunt',\n",
       " 'aunti',\n",
       " 'aussi',\n",
       " 'australian',\n",
       " 'authent',\n",
       " 'autism',\n",
       " 'auto',\n",
       " 'autoship',\n",
       " 'autum',\n",
       " 'auzzie4185',\n",
       " 'avail',\n",
       " 'averag',\n",
       " 'avid',\n",
       " 'avocado',\n",
       " 'avoid',\n",
       " 'aw',\n",
       " 'await',\n",
       " 'awak',\n",
       " 'awar',\n",
       " 'away',\n",
       " 'awe',\n",
       " 'awesom',\n",
       " 'awesomesauc',\n",
       " 'awhil',\n",
       " 'awri',\n",
       " 'awsom',\n",
       " 'azmira',\n",
       " 'azteca',\n",
       " 'b',\n",
       " 'babe',\n",
       " 'babi',\n",
       " 'babyand',\n",
       " 'babycook',\n",
       " 'babyfin',\n",
       " 'backord',\n",
       " 'backpack',\n",
       " 'backup',\n",
       " 'bacon',\n",
       " 'baconnais',\n",
       " 'bad',\n",
       " 'badbut',\n",
       " 'badfor',\n",
       " 'badli',\n",
       " 'bag',\n",
       " 'bagalici',\n",
       " 'bagel',\n",
       " 'baggi',\n",
       " 'bagl',\n",
       " 'bahlsen',\n",
       " 'bailey',\n",
       " 'bait',\n",
       " 'baitandswitch',\n",
       " 'bake',\n",
       " 'baker',\n",
       " 'bakeri',\n",
       " 'baklava',\n",
       " 'balalnc',\n",
       " 'balanc',\n",
       " 'ball',\n",
       " 'balm',\n",
       " 'balsam',\n",
       " 'bam',\n",
       " 'bambo',\n",
       " 'bamboo',\n",
       " 'banana',\n",
       " 'bananayummi',\n",
       " 'band',\n",
       " 'bang',\n",
       " 'bangin',\n",
       " 'bank',\n",
       " 'bar',\n",
       " 'barbara',\n",
       " 'barbecu',\n",
       " 'barbequ',\n",
       " 'bard',\n",
       " 'bare',\n",
       " 'barelyther',\n",
       " 'barf',\n",
       " 'bargain',\n",
       " 'bargin',\n",
       " 'barista',\n",
       " 'barley',\n",
       " 'barn',\n",
       " 'barreplac',\n",
       " 'barri',\n",
       " 'barrier',\n",
       " 'barryvillage2',\n",
       " 'barz',\n",
       " 'base',\n",
       " 'basement',\n",
       " 'basic',\n",
       " 'basil',\n",
       " 'basket',\n",
       " 'basketthank',\n",
       " 'basmati',\n",
       " 'bast',\n",
       " 'batch',\n",
       " 'batman',\n",
       " 'bavarian',\n",
       " 'bay',\n",
       " 'bayou',\n",
       " 'bb',\n",
       " 'bbo',\n",
       " 'bbq',\n",
       " 'bbuffalo',\n",
       " 'beaba',\n",
       " 'beacon',\n",
       " 'bean',\n",
       " 'beanito',\n",
       " 'beanshow',\n",
       " 'beanz',\n",
       " 'bear',\n",
       " 'beast',\n",
       " 'beat',\n",
       " 'beauti',\n",
       " 'bec',\n",
       " 'becam',\n",
       " 'becaus',\n",
       " 'becom',\n",
       " 'bed',\n",
       " 'bedpost',\n",
       " 'bedtim',\n",
       " 'bee',\n",
       " 'beef',\n",
       " 'beefeat',\n",
       " 'beefi',\n",
       " 'beefsteak',\n",
       " 'beekeep',\n",
       " 'beeman',\n",
       " 'beensdecaf',\n",
       " 'beer',\n",
       " 'beet',\n",
       " 'beetlejuic',\n",
       " 'befor',\n",
       " 'beg',\n",
       " 'beggin',\n",
       " 'begin',\n",
       " 'beginn',\n",
       " 'behalf',\n",
       " 'beleiv',\n",
       " 'belgian',\n",
       " 'belgium',\n",
       " 'belief',\n",
       " 'believ',\n",
       " 'beliz',\n",
       " 'bell',\n",
       " 'bella',\n",
       " 'belli',\n",
       " 'belliesjuici',\n",
       " 'belong',\n",
       " 'benecol',\n",
       " 'benefici',\n",
       " 'benefit',\n",
       " 'bengal',\n",
       " 'benson',\n",
       " 'bentley',\n",
       " 'bergamot',\n",
       " 'bergamoti',\n",
       " 'bergin',\n",
       " 'bernard',\n",
       " 'berri',\n",
       " 'berryblossom',\n",
       " 'berrylici',\n",
       " 'berrylik',\n",
       " 'besid',\n",
       " 'best',\n",
       " 'bestest',\n",
       " 'bestpastaev',\n",
       " 'bet',\n",
       " 'beth',\n",
       " 'better',\n",
       " 'betti',\n",
       " 'bettlejuic',\n",
       " 'bettlejuicebettlejuicebettlejuic',\n",
       " 'beurr',\n",
       " 'beverag',\n",
       " 'bevmcq2',\n",
       " 'bewar',\n",
       " 'bewaremad',\n",
       " 'bewareread',\n",
       " 'bewareth',\n",
       " 'bff',\n",
       " 'bichon',\n",
       " 'big',\n",
       " 'bigelow',\n",
       " 'bigger',\n",
       " 'biggest',\n",
       " 'bigshinynoisi',\n",
       " 'bihon',\n",
       " 'bike',\n",
       " 'biljac',\n",
       " 'billi',\n",
       " 'bing',\n",
       " 'biobag',\n",
       " 'biodegrad',\n",
       " 'bionatura',\n",
       " 'birch',\n",
       " 'bird',\n",
       " 'birthday',\n",
       " 'biscoti',\n",
       " 'biscotti',\n",
       " 'biscuit',\n",
       " 'biscuitcooki',\n",
       " 'biscuittyp',\n",
       " 'bisqu',\n",
       " 'bisquick',\n",
       " 'bistro',\n",
       " 'bit',\n",
       " 'bite',\n",
       " 'bitsi',\n",
       " 'bitter',\n",
       " 'bittersweet',\n",
       " 'bitti',\n",
       " 'bizzar',\n",
       " 'black',\n",
       " 'blackberri',\n",
       " 'blackcurr',\n",
       " 'blackstrap',\n",
       " 'blah',\n",
       " 'blair',\n",
       " 'bland',\n",
       " 'blarhhhh',\n",
       " 'blast',\n",
       " 'blaze',\n",
       " 'blazin',\n",
       " 'bleach',\n",
       " 'blech',\n",
       " 'bleh',\n",
       " 'blend',\n",
       " 'bless',\n",
       " 'blind',\n",
       " 'bliss',\n",
       " 'bloat',\n",
       " 'blob',\n",
       " 'bloch',\n",
       " 'block',\n",
       " 'bloddi',\n",
       " 'blondi',\n",
       " 'blood',\n",
       " 'bloodi',\n",
       " 'bloom',\n",
       " 'blossom',\n",
       " 'blotto',\n",
       " 'blow',\n",
       " 'blue',\n",
       " 'blueberri',\n",
       " 'bm',\n",
       " 'board',\n",
       " 'boardwalk',\n",
       " 'bob',\n",
       " 'boba',\n",
       " 'bobo',\n",
       " 'bodi',\n",
       " 'bogu',\n",
       " 'boister',\n",
       " 'bokar',\n",
       " 'bold',\n",
       " 'bolder',\n",
       " 'boldest',\n",
       " 'bole',\n",
       " 'bomb',\n",
       " 'bon',\n",
       " 'bone',\n",
       " 'bonito',\n",
       " 'bonsai',\n",
       " 'bonzai',\n",
       " 'booda',\n",
       " 'booger',\n",
       " 'book',\n",
       " 'boost',\n",
       " 'booster',\n",
       " 'boot',\n",
       " 'booti',\n",
       " 'border',\n",
       " 'bore',\n",
       " 'born',\n",
       " 'boss',\n",
       " 'bother',\n",
       " 'bottl',\n",
       " 'bottlecap',\n",
       " 'bought',\n",
       " 'bouillon',\n",
       " 'bounci',\n",
       " 'bourbon',\n",
       " 'bourbonmadagascar',\n",
       " 'bowel',\n",
       " 'bowl',\n",
       " 'bowser',\n",
       " 'bowwowm',\n",
       " 'box',\n",
       " 'boxer',\n",
       " 'boxochip',\n",
       " 'boy',\n",
       " 'boyfriend',\n",
       " 'boylan',\n",
       " 'bp',\n",
       " 'bpa',\n",
       " 'bpafre',\n",
       " 'braaaain',\n",
       " 'brain',\n",
       " 'brainer',\n",
       " 'bran',\n",
       " 'brand',\n",
       " 'brassi',\n",
       " 'braswel',\n",
       " 'bravissimo',\n",
       " 'bravo',\n",
       " 'brazil',\n",
       " 'bread',\n",
       " 'breadawesom',\n",
       " 'breadstick',\n",
       " 'break',\n",
       " 'breakagesoften',\n",
       " 'breakfast',\n",
       " 'breakfastat',\n",
       " 'breakfastsnack',\n",
       " 'breakfeast',\n",
       " 'breast',\n",
       " 'breastfeed',\n",
       " 'breath',\n",
       " 'breed',\n",
       " 'breez',\n",
       " 'brem',\n",
       " 'brenda',\n",
       " 'brew',\n",
       " 'brewer',\n",
       " 'brezza',\n",
       " 'brick',\n",
       " 'brie',\n",
       " 'brief',\n",
       " 'bright',\n",
       " 'brightey',\n",
       " 'brilliant',\n",
       " 'brine',\n",
       " 'bring',\n",
       " 'brit',\n",
       " 'british',\n",
       " 'brittl',\n",
       " 'bro',\n",
       " 'broccoli',\n",
       " 'broke',\n",
       " 'broken',\n",
       " 'brooklyn',\n",
       " 'broth',\n",
       " 'brother',\n",
       " 'brought',\n",
       " 'brown',\n",
       " 'browne',\n",
       " 'browni',\n",
       " 'brule',\n",
       " 'brush',\n",
       " 'brutold',\n",
       " 'bs',\n",
       " 'btn',\n",
       " 'bubbl',\n",
       " 'buck',\n",
       " 'bud',\n",
       " 'buddi',\n",
       " 'budget',\n",
       " 'budgit',\n",
       " 'buffalo',\n",
       " 'buffer',\n",
       " 'buffet',\n",
       " 'bug',\n",
       " 'build',\n",
       " 'bulb',\n",
       " 'bulgogi',\n",
       " 'bulk',\n",
       " 'bull',\n",
       " 'bulldog',\n",
       " 'bulli',\n",
       " 'bullsey',\n",
       " 'bullymax',\n",
       " 'bumbl',\n",
       " 'bummer',\n",
       " 'bun',\n",
       " 'bunch',\n",
       " 'bundt',\n",
       " 'bunk',\n",
       " 'bunni',\n",
       " 'buono',\n",
       " 'burger',\n",
       " 'burk',\n",
       " 'burn',\n",
       " 'burner',\n",
       " 'burnt',\n",
       " 'burrito',\n",
       " 'burst',\n",
       " 'burton',\n",
       " 'busi',\n",
       " 'busiest',\n",
       " 'bust',\n",
       " 'bustelo',\n",
       " 'buster',\n",
       " 'butler',\n",
       " 'butter',\n",
       " 'butteri',\n",
       " 'buttermilk',\n",
       " 'butternut',\n",
       " 'button',\n",
       " 'buuuti',\n",
       " 'buy',\n",
       " 'buyer',\n",
       " 'buzz',\n",
       " 'bypass',\n",
       " 'byproduct',\n",
       " 'c',\n",
       " 'cacao',\n",
       " 'cactu',\n",
       " 'cactuscowboy',\n",
       " 'cadet',\n",
       " 'cadillac',\n",
       " 'cafe',\n",
       " 'cafeacut',\n",
       " 'cafein',\n",
       " 'cafestyl',\n",
       " 'caffe',\n",
       " 'caffein',\n",
       " 'caffeine5',\n",
       " 'caffeinefre',\n",
       " 'caffienefre',\n",
       " 'caibou',\n",
       " 'cajun',\n",
       " 'cake',\n",
       " 'cakea',\n",
       " 'cakemix',\n",
       " 'cal',\n",
       " 'calcium',\n",
       " 'california',\n",
       " 'calm',\n",
       " 'calmorang',\n",
       " 'calor',\n",
       " 'calori',\n",
       " 'caloriesnic',\n",
       " 'came',\n",
       " 'camel',\n",
       " 'camil',\n",
       " 'camp',\n",
       " 'campbel',\n",
       " 'camper',\n",
       " 'canada',\n",
       " 'canadian',\n",
       " 'cancel',\n",
       " 'cancer',\n",
       " 'candi',\n",
       " 'candycan',\n",
       " 'candyyum',\n",
       " 'cane',\n",
       " 'canida',\n",
       " 'canin',\n",
       " 'canist',\n",
       " 'cann',\n",
       " 'cannist',\n",
       " 'cannoli',\n",
       " 'cantim',\n",
       " 'canva',\n",
       " 'caol',\n",
       " 'cap',\n",
       " 'caper',\n",
       " 'capit',\n",
       " 'caponi',\n",
       " 'cappuccino',\n",
       " 'cappuccinoand',\n",
       " 'capsul',\n",
       " 'captiv',\n",
       " 'captivapack',\n",
       " 'capuccino',\n",
       " 'car',\n",
       " 'caramel',\n",
       " 'carb',\n",
       " 'carberpasta',\n",
       " 'carbo',\n",
       " 'carbohydr',\n",
       " 'carbon',\n",
       " 'carbona',\n",
       " 'carbonara',\n",
       " 'cardamom',\n",
       " 'cardboard',\n",
       " 'cardia',\n",
       " 'care',\n",
       " 'carib',\n",
       " 'caribbean',\n",
       " 'carmel',\n",
       " 'carnat',\n",
       " 'carnivor',\n",
       " 'carob',\n",
       " 'carous',\n",
       " 'carousel',\n",
       " 'carraway',\n",
       " 'carri',\n",
       " 'carson',\n",
       " 'cascadian',\n",
       " 'case',\n",
       " 'cashew',\n",
       " 'casolar',\n",
       " 'casserol',\n",
       " 'cat',\n",
       " 'catalina',\n",
       " 'catch',\n",
       " 'catcher',\n",
       " 'categori',\n",
       " 'catfood',\n",
       " 'catkin',\n",
       " 'catnip',\n",
       " 'catnipp',\n",
       " 'catstronom',\n",
       " 'catsup',\n",
       " 'caught',\n",
       " 'cauliflow',\n",
       " 'caus',\n",
       " 'caution',\n",
       " 'caveat',\n",
       " 'caviar',\n",
       " 'cayenn',\n",
       " 'cbtl',\n",
       " 'cd',\n",
       " 'cecco',\n",
       " 'cefaloacutepodo',\n",
       " 'celebr',\n",
       " 'celesti',\n",
       " 'celiac',\n",
       " 'celsiu',\n",
       " 'cement',\n",
       " 'cent',\n",
       " 'cento',\n",
       " 'centuri',\n",
       " 'cephalopod',\n",
       " 'cereal',\n",
       " 'ceriel',\n",
       " 'cerifi',\n",
       " 'certain',\n",
       " 'certainli',\n",
       " 'certifi',\n",
       " 'cesar',\n",
       " 'cessna',\n",
       " 'cest',\n",
       " 'cet',\n",
       " 'ceylon',\n",
       " 'cha',\n",
       " 'chacun',\n",
       " 'chai',\n",
       " 'chair',\n",
       " 'chaiyiyi',\n",
       " 'chajang',\n",
       " 'chalk',\n",
       " 'chalki',\n",
       " 'challah',\n",
       " 'challeng',\n",
       " 'chamomil',\n",
       " 'champion',\n",
       " 'chanc',\n",
       " 'chang',\n",
       " 'changer',\n",
       " 'chappagetti',\n",
       " 'char',\n",
       " 'charact',\n",
       " 'chardonnay',\n",
       " 'chare',\n",
       " 'charg',\n",
       " 'charger',\n",
       " 'charl',\n",
       " 'charli',\n",
       " 'charm',\n",
       " 'chaser',\n",
       " 'cheap',\n",
       " 'cheaper',\n",
       " ...]"
      ]
     },
     "execution_count": 142,
     "metadata": {},
     "output_type": "execute_result"
    }
   ],
   "source": [
    "vect.get_feature_names()"
   ]
  },
  {
   "cell_type": "code",
   "execution_count": 143,
   "metadata": {
    "collapsed": true
   },
   "outputs": [],
   "source": [
    "# transform train data\n",
    "X1_train_bog = vect.transform(x1_train)"
   ]
  },
  {
   "cell_type": "code",
   "execution_count": 144,
   "metadata": {
    "collapsed": false
   },
   "outputs": [
    {
     "data": {
      "text/plain": [
       "<19716x6130 sparse matrix of type '<class 'numpy.int64'>'\n",
       "\twith 55469 stored elements in Compressed Sparse Row format>"
      ]
     },
     "execution_count": 144,
     "metadata": {},
     "output_type": "execute_result"
    }
   ],
   "source": [
    "X1_train_bog"
   ]
  },
  {
   "cell_type": "code",
   "execution_count": 145,
   "metadata": {
    "collapsed": false
   },
   "outputs": [
    {
     "data": {
      "text/plain": [
       "<6573x6130 sparse matrix of type '<class 'numpy.int64'>'\n",
       "\twith 17471 stored elements in Compressed Sparse Row format>"
      ]
     },
     "execution_count": 145,
     "metadata": {},
     "output_type": "execute_result"
    }
   ],
   "source": [
    "# transform test data to bog\n",
    "X1_test_bog = vect.transform(x1_test)\n",
    "X1_test_bog"
   ]
  },
  {
   "cell_type": "code",
   "execution_count": 148,
   "metadata": {
    "collapsed": true
   },
   "outputs": [],
   "source": [
    "# allocating the cache_size of 1600 MB to increase the computation speed by increasing the cache\n",
    "# Note that cache_size greater than 2000 MB decreases the speed and doesn't allocated RAM to cache(sklearn bug) "
   ]
  },
  {
   "cell_type": "code",
   "execution_count": 146,
   "metadata": {
    "collapsed": false
   },
   "outputs": [
    {
     "name": "stdout",
     "output_type": "stream",
     "text": [
      "training the model..\n",
      "Done \n",
      " \n",
      "\n",
      "training_time(HH:MM:SS.ms) - 0:25:21.677714\n",
      "\n",
      "\n",
      "Predicting test data\n",
      "Done \n",
      " \n",
      "\n",
      "testing time(HH:MM:SS:ms) - 0:00:02.869919\n",
      "\n",
      "\n",
      "---------------------\n",
      "|      Accuracy      |\n",
      "---------------------\n",
      "\n",
      "    0.9005020538566865\n",
      "\n",
      "\n",
      "--------------------\n",
      "| Confusion Matrix |\n",
      "--------------------\n",
      "\n",
      " [[ 497  530]\n",
      " [ 124 5422]]\n"
     ]
    },
    {
     "data": {
      "image/png": "[encoded data removed]",
      "text/plain": [
       "<matplotlib.figure.Figure at 0x7ff3c03a96a0>"
      ]
     },
     "metadata": {},
     "output_type": "display_data"
    },
    {
     "name": "stdout",
     "output_type": "stream",
     "text": [
      "-------------------------\n",
      "| Classifiction Report |\n",
      "-------------------------\n",
      "             precision    recall  f1-score   support\n",
      "\n",
      "          0       0.80      0.48      0.60      1027\n",
      "          1       0.91      0.98      0.94      5546\n",
      "\n",
      "avg / total       0.89      0.90      0.89      6573\n",
      "\n"
     ]
    }
   ],
   "source": [
    "from sklearn.svm import SVC\n",
    "parameters = {'C':[2,4,8,16],\\\n",
    "              'gamma': [ 0.0078125, 0.125,0.25, 2]}\n",
    "rbf_svm = SVC(kernel='rbf',cache_size = 1600,probability = True)\n",
    "rbf_svm_grid = GridSearchCV(rbf_svm,param_grid=parameters, n_jobs=-1)\n",
    "rbf_svm_grid_results = perform_model(rbf_svm_grid, X1_train_bog, Y1_train, X1_test_bog, Y1_test, class_labels=labels)"
   ]
  },
  {
   "cell_type": "code",
   "execution_count": 147,
   "metadata": {
    "collapsed": false
   },
   "outputs": [
    {
     "name": "stdout",
     "output_type": "stream",
     "text": [
      "--------------------------\n",
      "|      Best Estimator     |\n",
      "--------------------------\n",
      "\n",
      "\tSVC(C=4, cache_size=1600, class_weight=None, coef0=0.0,\n",
      "  decision_function_shape='ovr', degree=3, gamma=0.125, kernel='rbf',\n",
      "  max_iter=-1, probability=True, random_state=None, shrinking=True,\n",
      "  tol=0.001, verbose=False)\n",
      "\n",
      "--------------------------\n",
      "|     Best parameters     |\n",
      "--------------------------\n",
      "\tParameters of best estimator : \n",
      "\n",
      "\t{'C': 4, 'gamma': 0.125}\n",
      "\n",
      "---------------------------------\n",
      "|   No of CrossValidation sets   |\n",
      "--------------------------------\n",
      "\n",
      "\tTotal numbre of cross validation sets: 3\n",
      "\n",
      "--------------------------\n",
      "|        Best Score       |\n",
      "--------------------------\n",
      "\n",
      "\tAverage Cross Validate scores of best estimator : \n",
      "\n",
      "\t0.8930817610062893\n",
      "\n"
     ]
    }
   ],
   "source": [
    "print_grid_search_attributes(rbf_svm_grid_results['model'])"
   ]
  },
  {
   "cell_type": "code",
   "execution_count": 91,
   "metadata": {
    "collapsed": true
   },
   "outputs": [],
   "source": [
    "# allocating the cache_size of 1600 MB to increase the computation speed by increasing the cache\n",
    "# Note that cache_size greater than 2000 MB decreases the speed and doesn't allocated RAM to cache(sklearn bug) \n",
    "svr = SVC(kernel = 'rbf',cache_size = 1600,probability = True)"
   ]
  },
  {
   "cell_type": "markdown",
   "metadata": {},
   "source": [
    "- **SVM with rbf kernel sampling the dataframe to 5% of the original data 10 times. Cummulatively we're sampling 50% of the data randomly.**"
   ]
  },
  {
   "cell_type": "code",
   "execution_count": null,
   "metadata": {
    "collapsed": false
   },
   "outputs": [],
   "source": []
  },
  {
   "cell_type": "markdown",
   "metadata": {},
   "source": [
    "### Tfidf"
   ]
  },
  {
   "cell_type": "code",
   "execution_count": 39,
   "metadata": {
    "collapsed": false
   },
   "outputs": [],
   "source": [
    "# Function to split train and test\n",
    "from sklearn.model_selection import train_test_split\n",
    "\n",
    "def split_train_test(X,Y):\n",
    "    return train_test_split(X, Y, test_size=0.33, random_state=42)"
   ]
  },
  {
   "cell_type": "code",
   "execution_count": 40,
   "metadata": {
    "collapsed": true
   },
   "outputs": [],
   "source": [
    "x_train, x_test, y_train, y_test = split_train_test(df1['Summary'],df1['review'])"
   ]
  },
  {
   "cell_type": "code",
   "execution_count": 41,
   "metadata": {
    "collapsed": true
   },
   "outputs": [],
   "source": [
    "from sklearn.feature_extraction.text import TfidfTransformer\n",
    "from sklearn.feature_extraction.text import TfidfVectorizer\n",
    "\n",
    "from sklearn.feature_extraction.text import CountVectorizer"
   ]
  },
  {
   "cell_type": "code",
   "execution_count": 42,
   "metadata": {
    "collapsed": false
   },
   "outputs": [],
   "source": [
    "tf_idf_vect = TfidfVectorizer(ngram_range=(1,2))\n",
    "final_tf_idf = tf_idf_vect.fit_transform(x_train.values)"
   ]
  },
  {
   "cell_type": "code",
   "execution_count": 43,
   "metadata": {
    "collapsed": true
   },
   "outputs": [],
   "source": [
    "X_train_tf = tf_idf_vect.transform(x_train)\n",
    "X_test_tf = tf_idf_vect.transform(x_test)"
   ]
  },
  {
   "cell_type": "code",
   "execution_count": 44,
   "metadata": {
    "collapsed": false
   },
   "outputs": [
    {
     "data": {
      "text/plain": [
       "(352267, 243701)"
      ]
     },
     "execution_count": 44,
     "metadata": {},
     "output_type": "execute_result"
    }
   ],
   "source": [
    "final_tf_idf.get_shape()"
   ]
  },
  {
   "cell_type": "code",
   "execution_count": 45,
   "metadata": {
    "collapsed": false
   },
   "outputs": [
    {
     "data": {
      "text/plain": [
       "243701"
      ]
     },
     "execution_count": 45,
     "metadata": {},
     "output_type": "execute_result"
    }
   ],
   "source": [
    "features = tf_idf_vect.get_feature_names()\n",
    "len(features)\n"
   ]
  },
  {
   "cell_type": "code",
   "execution_count": 46,
   "metadata": {
    "collapsed": false
   },
   "outputs": [
    {
     "data": {
      "text/plain": [
       "['zinger and',\n",
       " 'zinger cinnamon',\n",
       " 'zinger flavor',\n",
       " 'zinger herb',\n",
       " 'zinger herbal',\n",
       " 'zinger ice',\n",
       " 'zinger tea',\n",
       " 'zinger was',\n",
       " 'zingers',\n",
       " 'zingy',\n",
       " 'zingy taste',\n",
       " 'zingy tasty',\n",
       " 'zingy yes',\n",
       " 'zip',\n",
       " 'zip and',\n",
       " 'zip dee',\n",
       " 'zip forever',\n",
       " 'zip in',\n",
       " 'zip lock',\n",
       " 'zip to',\n",
       " 'zip top',\n",
       " 'zipfizz',\n",
       " 'zipfizz flavor',\n",
       " 'zipfizz for',\n",
       " 'zipfizz grape',\n",
       " 'zipfizz is',\n",
       " 'zipfizz liquid',\n",
       " 'zipfizz orange',\n",
       " 'zipfizz order',\n",
       " 'ziploc',\n",
       " 'ziplock',\n",
       " 'ziplock healthier',\n",
       " 'ziplock needed',\n",
       " 'zipp',\n",
       " 'zipp fizz',\n",
       " 'zipper',\n",
       " 'zipper broke',\n",
       " 'zipper top',\n",
       " 'zipper would',\n",
       " 'zippered',\n",
       " 'zippered case',\n",
       " 'zippy',\n",
       " 'zippy coca',\n",
       " 'zippy lime',\n",
       " 'zippy salad',\n",
       " 'zippy sauce',\n",
       " 'zippy tea',\n",
       " 'ziti',\n",
       " 'ziti and',\n",
       " 'ziti meat',\n",
       " 'ziti rigati',\n",
       " 'ziwi',\n",
       " 'ziwi peak',\n",
       " 'ziwipeak',\n",
       " 'ziwipeak addict',\n",
       " 'ziwipeak deer',\n",
       " 'ziwipeak is',\n",
       " 'ziwipeak lamb',\n",
       " 'ziwipeak peaks',\n",
       " 'ziwipeak product',\n",
       " 'ziwipeak real',\n",
       " 'ziwipeak venison',\n",
       " 'ziwipeaks',\n",
       " 'ziwipeaks great',\n",
       " 'ziyad',\n",
       " 'ziyad falafil',\n",
       " 'zoe',\n",
       " 'zoe and',\n",
       " 'zoe anti',\n",
       " 'zoe chew',\n",
       " 'zoe diva',\n",
       " 'zoe extra',\n",
       " 'zoe favorite',\n",
       " 'zoe for',\n",
       " 'zoe is',\n",
       " 'zoe low',\n",
       " 'zoe oil',\n",
       " 'zoe olive',\n",
       " 'zoe organic',\n",
       " 'zoe spanish',\n",
       " 'zoe superb',\n",
       " 'zoe two',\n",
       " 'zoe will',\n",
       " 'zoey',\n",
       " 'zoey loves',\n",
       " 'zola',\n",
       " 'zola acai',\n",
       " 'zola lives',\n",
       " 'zola yuk',\n",
       " 'zombie',\n",
       " 'zombie novelty',\n",
       " 'zomg',\n",
       " 'zomg no',\n",
       " 'zon',\n",
       " 'zone',\n",
       " 'zone diet',\n",
       " 'zone eating',\n",
       " 'zone indoor',\n",
       " 'zone this',\n",
       " 'zonkers',\n",
       " 'zoo',\n",
       " 'zoo backstage',\n",
       " 'zoo fortunes',\n",
       " 'zoo pagoda',\n",
       " 'zoo review',\n",
       " 'zoo zebra',\n",
       " 'zoology',\n",
       " 'zoology project',\n",
       " 'zoom',\n",
       " 'zoom and',\n",
       " 'zoom cereal',\n",
       " 'zoom on',\n",
       " 'zoom to',\n",
       " 'zoom zoom',\n",
       " 'zooom',\n",
       " 'zot',\n",
       " 'zot licorice',\n",
       " 'zots',\n",
       " 'zots alots',\n",
       " 'zots fizz',\n",
       " 'zots remember',\n",
       " 'zotz',\n",
       " 'zotz are',\n",
       " 'zotz candies',\n",
       " 'zotz great',\n",
       " 'zotz make',\n",
       " 'zotz power',\n",
       " 'zotz the',\n",
       " 'zotz were',\n",
       " 'zour',\n",
       " 'zour power',\n",
       " 'zours',\n",
       " 'zours poem',\n",
       " 'zow',\n",
       " 'zowie',\n",
       " 'zqueen',\n",
       " 'zsweet',\n",
       " 'zsweet all',\n",
       " 'zsweet is',\n",
       " 'zsweet thank',\n",
       " 'zu',\n",
       " 'zu owner',\n",
       " 'zucchini',\n",
       " 'zucchini jam',\n",
       " 'zuke',\n",
       " 'zuke chicken',\n",
       " 'zuke dad',\n",
       " 'zuke dog',\n",
       " 'zuke filets',\n",
       " 'zuke for',\n",
       " 'zuke hip',\n",
       " 'zuke is',\n",
       " 'zuke jerky',\n",
       " 'zuke lamb',\n",
       " 'zuke lover',\n",
       " 'zuke makes',\n",
       " 'zuke mini',\n",
       " 'zuke minis',\n",
       " 'zuke more',\n",
       " 'zuke peanut',\n",
       " 'zuke products',\n",
       " 'zuke ridge',\n",
       " 'zuke salmon',\n",
       " 'zuke treat',\n",
       " 'zuke treats',\n",
       " 'zukes',\n",
       " 'zukes can',\n",
       " 'zukes clean',\n",
       " 'zukes cranberry',\n",
       " 'zukes dog',\n",
       " 'zukes fresh',\n",
       " 'zukes hip',\n",
       " 'zukes hipaction',\n",
       " 'zukes is',\n",
       " 'zukes mini',\n",
       " 'zukes peanut',\n",
       " 'zukes treats',\n",
       " 'zulka',\n",
       " 'zulka unrefined',\n",
       " 'zulu',\n",
       " 'zulu warrior',\n",
       " 'zupreem',\n",
       " 'zupreem for',\n",
       " 'zushi',\n",
       " 'zushi mat',\n",
       " 'zwieback',\n",
       " 'zwieback for',\n",
       " 'zylitol',\n",
       " 'zym',\n",
       " 'zym tablets',\n",
       " 'zyrup',\n",
       " 'zz',\n",
       " 'zz plant',\n",
       " 'zzfantastic',\n",
       " 'zzfantastic coffee',\n",
       " 'zzzzz',\n",
       " 'zzzzzzzzz',\n",
       " 'zzzzzzzzzzz',\n",
       " 'zzzzzzzzzzz snort',\n",
       " 'åwesome',\n",
       " 'åwesome coffee']"
      ]
     },
     "execution_count": 46,
     "metadata": {},
     "output_type": "execute_result"
    }
   ],
   "source": [
    "features[243500:243701]"
   ]
  },
  {
   "cell_type": "code",
   "execution_count": 47,
   "metadata": {
    "collapsed": true
   },
   "outputs": [],
   "source": [
    "# source: https://buhrmann.github.io/tfidf-analysis.html\n",
    "def top_tfidf_feats(row, features, top_n=25):\n",
    "    ''' Get top n tfidf values in row and return them with their corresponding feature names.'''\n",
    "    topn_ids = np.argsort(row)[::-1][:top_n]\n",
    "    top_feats = [(features[i], row[i]) for i in topn_ids]\n",
    "    df = pd.DataFrame(top_feats)\n",
    "    df.columns = ['feature', 'tfidf']\n",
    "    return df\n",
    "\n",
    "top_tfidf = top_tfidf_feats(final_tf_idf[1,:].toarray()[0],features,25)"
   ]
  },
  {
   "cell_type": "code",
   "execution_count": 48,
   "metadata": {
    "collapsed": false
   },
   "outputs": [
    {
     "data": {
      "text/html": [
       "<div>\n",
       "<table border=\"1\" class=\"dataframe\">\n",
       "  <thead>\n",
       "    <tr style=\"text-align: right;\">\n",
       "      <th></th>\n",
       "      <th>feature</th>\n",
       "      <th>tfidf</th>\n",
       "    </tr>\n",
       "  </thead>\n",
       "  <tbody>\n",
       "    <tr>\n",
       "      <th>0</th>\n",
       "      <td>nice chip</td>\n",
       "      <td>0.438069</td>\n",
       "    </tr>\n",
       "    <tr>\n",
       "      <th>1</th>\n",
       "      <td>chip even</td>\n",
       "      <td>0.438069</td>\n",
       "    </tr>\n",
       "    <tr>\n",
       "      <th>2</th>\n",
       "      <td>better ingredients</td>\n",
       "      <td>0.409387</td>\n",
       "    </tr>\n",
       "    <tr>\n",
       "      <th>3</th>\n",
       "      <td>even better</td>\n",
       "      <td>0.306297</td>\n",
       "    </tr>\n",
       "    <tr>\n",
       "      <th>4</th>\n",
       "      <td>very nice</td>\n",
       "      <td>0.265776</td>\n",
       "    </tr>\n",
       "    <tr>\n",
       "      <th>5</th>\n",
       "      <td>ingredients</td>\n",
       "      <td>0.250808</td>\n",
       "    </tr>\n",
       "    <tr>\n",
       "      <th>6</th>\n",
       "      <td>chip</td>\n",
       "      <td>0.250149</td>\n",
       "    </tr>\n",
       "    <tr>\n",
       "      <th>7</th>\n",
       "      <td>even</td>\n",
       "      <td>0.239284</td>\n",
       "    </tr>\n",
       "    <tr>\n",
       "      <th>8</th>\n",
       "      <td>nice</td>\n",
       "      <td>0.196044</td>\n",
       "    </tr>\n",
       "    <tr>\n",
       "      <th>9</th>\n",
       "      <td>better</td>\n",
       "      <td>0.191533</td>\n",
       "    </tr>\n",
       "    <tr>\n",
       "      <th>10</th>\n",
       "      <td>very</td>\n",
       "      <td>0.162127</td>\n",
       "    </tr>\n",
       "    <tr>\n",
       "      <th>11</th>\n",
       "      <td>for dad</td>\n",
       "      <td>0.000000</td>\n",
       "    </tr>\n",
       "    <tr>\n",
       "      <th>12</th>\n",
       "      <td>for diets</td>\n",
       "      <td>0.000000</td>\n",
       "    </tr>\n",
       "    <tr>\n",
       "      <th>13</th>\n",
       "      <td>for dip</td>\n",
       "      <td>0.000000</td>\n",
       "    </tr>\n",
       "    <tr>\n",
       "      <th>14</th>\n",
       "      <td>for dinner</td>\n",
       "      <td>0.000000</td>\n",
       "    </tr>\n",
       "    <tr>\n",
       "      <th>15</th>\n",
       "      <td>for dill</td>\n",
       "      <td>0.000000</td>\n",
       "    </tr>\n",
       "    <tr>\n",
       "      <th>16</th>\n",
       "      <td>for digestive</td>\n",
       "      <td>0.000000</td>\n",
       "    </tr>\n",
       "    <tr>\n",
       "      <th>17</th>\n",
       "      <td>for digestion</td>\n",
       "      <td>0.000000</td>\n",
       "    </tr>\n",
       "    <tr>\n",
       "      <th>18</th>\n",
       "      <td>for cvb</td>\n",
       "      <td>0.000000</td>\n",
       "    </tr>\n",
       "    <tr>\n",
       "      <th>19</th>\n",
       "      <td>for dig</td>\n",
       "      <td>0.000000</td>\n",
       "    </tr>\n",
       "    <tr>\n",
       "      <th>20</th>\n",
       "      <td>for difficult</td>\n",
       "      <td>0.000000</td>\n",
       "    </tr>\n",
       "    <tr>\n",
       "      <th>21</th>\n",
       "      <td>for different</td>\n",
       "      <td>0.000000</td>\n",
       "    </tr>\n",
       "    <tr>\n",
       "      <th>22</th>\n",
       "      <td>for dieting</td>\n",
       "      <td>0.000000</td>\n",
       "    </tr>\n",
       "    <tr>\n",
       "      <th>23</th>\n",
       "      <td>for dips</td>\n",
       "      <td>0.000000</td>\n",
       "    </tr>\n",
       "    <tr>\n",
       "      <th>24</th>\n",
       "      <td>for dieters</td>\n",
       "      <td>0.000000</td>\n",
       "    </tr>\n",
       "  </tbody>\n",
       "</table>\n",
       "</div>"
      ],
      "text/plain": [
       "               feature     tfidf\n",
       "0            nice chip  0.438069\n",
       "1            chip even  0.438069\n",
       "2   better ingredients  0.409387\n",
       "3          even better  0.306297\n",
       "4            very nice  0.265776\n",
       "5          ingredients  0.250808\n",
       "6                 chip  0.250149\n",
       "7                 even  0.239284\n",
       "8                 nice  0.196044\n",
       "9               better  0.191533\n",
       "10                very  0.162127\n",
       "11             for dad  0.000000\n",
       "12           for diets  0.000000\n",
       "13             for dip  0.000000\n",
       "14          for dinner  0.000000\n",
       "15            for dill  0.000000\n",
       "16       for digestive  0.000000\n",
       "17       for digestion  0.000000\n",
       "18             for cvb  0.000000\n",
       "19             for dig  0.000000\n",
       "20       for difficult  0.000000\n",
       "21       for different  0.000000\n",
       "22         for dieting  0.000000\n",
       "23            for dips  0.000000\n",
       "24         for dieters  0.000000"
      ]
     },
     "execution_count": 48,
     "metadata": {},
     "output_type": "execute_result"
    }
   ],
   "source": [
    "top_tfidf"
   ]
  },
  {
   "cell_type": "code",
   "execution_count": null,
   "metadata": {
    "collapsed": false
   },
   "outputs": [],
   "source": []
  },
  {
   "cell_type": "markdown",
   "metadata": {},
   "source": [
    "### Word2Vec"
   ]
  },
  {
   "cell_type": "code",
   "execution_count": 52,
   "metadata": {
    "collapsed": false
   },
   "outputs": [],
   "source": [
    "import string\n",
    "from nltk.corpus import stopwords\n",
    "from nltk.stem import PorterStemmer\n",
    "from nltk.stem.wordnet import WordNetLemmatizer\n",
    "\n",
    "def cleanhtml(sentence): #function to clean the word of any html-tags\n",
    "    cleanr = re.compile('<.*?>')\n",
    "    cleantext = re.sub(cleanr, ' ', sentence)\n",
    "    return cleantext\n",
    "def cleanpunc(sentence): #function to clean the word of any punctuation or special characters\n",
    "    cleaned = re.sub(r'[?|!|\\'|\"|#]',r'',sentence)\n",
    "    cleaned = re.sub(r'[.|,|)|(|\\|/]',r' ',cleaned)\n",
    "    return  cleaned"
   ]
  },
  {
   "cell_type": "code",
   "execution_count": 54,
   "metadata": {
    "collapsed": true
   },
   "outputs": [],
   "source": [
    "import re"
   ]
  },
  {
   "cell_type": "code",
   "execution_count": 55,
   "metadata": {
    "collapsed": false
   },
   "outputs": [],
   "source": [
    "# Train your own Word2Vec model using your own text corpus\n",
    "import gensim\n",
    "i=0\n",
    "list_of_sent=[]\n",
    "for sent in df1['Summary'].values:\n",
    "    filtered_sentence=[]\n",
    "    sent=cleanhtml(sent)\n",
    "    for w in sent.split():\n",
    "        for cleaned_words in cleanpunc(w).split():\n",
    "            if(cleaned_words.isalpha()):    \n",
    "                filtered_sentence.append(cleaned_words.lower())\n",
    "            else:\n",
    "                continue \n",
    "    list_of_sent.append(filtered_sentence)"
   ]
  },
  {
   "cell_type": "code",
   "execution_count": 56,
   "metadata": {
    "collapsed": false
   },
   "outputs": [
    {
     "name": "stdout",
     "output_type": "stream",
     "text": [
      "Works as Advertised - Classy Product\n",
      "*****************************************************************\n",
      "['works', 'as', 'advertised', 'classy', 'product']\n"
     ]
    }
   ],
   "source": [
    "print(df1['Summary'].values[0])\n",
    "print(\"*****************************************************************\")\n",
    "print(list_of_sent[0])"
   ]
  },
  {
   "cell_type": "code",
   "execution_count": 57,
   "metadata": {
    "collapsed": true
   },
   "outputs": [],
   "source": [
    "w2v_model=gensim.models.Word2Vec(list_of_sent,min_count=5,size=50, workers=4)  "
   ]
  },
  {
   "cell_type": "code",
   "execution_count": 58,
   "metadata": {
    "collapsed": false
   },
   "outputs": [
    {
     "name": "stdout",
     "output_type": "stream",
     "text": [
      "10690\n"
     ]
    }
   ],
   "source": [
    "words = list(w2v_model.wv.vocab)\n",
    "print(len(words))"
   ]
  },
  {
   "cell_type": "code",
   "execution_count": 59,
   "metadata": {
    "collapsed": false
   },
   "outputs": [
    {
     "data": {
      "text/plain": [
       "[('delicious', 0.8522651195526123),\n",
       " ('yummy', 0.7689810395240784),\n",
       " ('flavorful', 0.731641411781311),\n",
       " ('tastey', 0.720867931842804),\n",
       " ('satisfying', 0.7188349962234497),\n",
       " ('delish', 0.6352889537811279),\n",
       " ('useful', 0.622449517250061),\n",
       " ('nice', 0.6110379695892334),\n",
       " ('crunchy', 0.6011788845062256),\n",
       " ('good', 0.596636950969696)]"
      ]
     },
     "execution_count": 59,
     "metadata": {},
     "output_type": "execute_result"
    }
   ],
   "source": [
    "w2v_model.wv.most_similar('tasty')"
   ]
  },
  {
   "cell_type": "code",
   "execution_count": 60,
   "metadata": {
    "collapsed": false
   },
   "outputs": [
    {
     "data": {
      "text/plain": [
       "[('enjoy', 0.6603001952171326),\n",
       " ('want', 0.6075959801673889),\n",
       " ('think', 0.5908873081207275),\n",
       " ('crave', 0.5430037975311279),\n",
       " ('call', 0.5386062860488892),\n",
       " ('eat', 0.5348858833312988),\n",
       " ('prefer', 0.5295838117599487),\n",
       " ('know', 0.5176347494125366),\n",
       " ('cindy', 0.5116000175476074),\n",
       " ('expect', 0.5098360776901245)]"
      ]
     },
     "execution_count": 60,
     "metadata": {},
     "output_type": "execute_result"
    }
   ],
   "source": [
    "w2v_model.wv.most_similar('like')"
   ]
  },
  {
   "cell_type": "code",
   "execution_count": 62,
   "metadata": {
    "collapsed": false
   },
   "outputs": [
    {
     "name": "stdout",
     "output_type": "stream",
     "text": [
      "41\n"
     ]
    }
   ],
   "source": [
    "count_vect_feat = vect.get_feature_names() # list of words in the BoW\n",
    "count_vect_feat.index('like')\n",
    "print(count_vect_feat[640])"
   ]
  },
  {
   "cell_type": "markdown",
   "metadata": {},
   "source": [
    "### Avg W2V, TFIDF-W2V"
   ]
  },
  {
   "cell_type": "code",
   "execution_count": 63,
   "metadata": {
    "collapsed": false
   },
   "outputs": [
    {
     "name": "stdout",
     "output_type": "stream",
     "text": [
      "525773\n",
      "50\n"
     ]
    }
   ],
   "source": [
    "# average Word2Vec\n",
    "# compute average word2vec for each review.\n",
    "sent_vectors = []; # the avg-w2v for each sentence/review is stored in this list\n",
    "for sent in list_of_sent: # for each review/sentence\n",
    "    sent_vec = np.zeros(50) # as word vectors are of zero length\n",
    "    cnt_words =0; # num of words with a valid vector in the sentence/review\n",
    "    for word in sent: # for each word in a review/sentence\n",
    "        try:\n",
    "            vec = w2v_model.wv[word]\n",
    "            sent_vec += vec\n",
    "            cnt_words += 1\n",
    "        except:\n",
    "            pass\n",
    "    sent_vec /= cnt_words\n",
    "    sent_vectors.append(sent_vec)\n",
    "print(len(sent_vectors))\n",
    "print(len(sent_vectors[0]))"
   ]
  },
  {
   "cell_type": "code",
   "execution_count": null,
   "metadata": {
    "collapsed": true
   },
   "outputs": [],
   "source": [
    "# TF-IDF weighted Word2Vec\n",
    "tfidf_feat = tf_idf_vect.get_feature_names() # tfidf words/col-names\n",
    "# final_tf_idf is the sparse matrix with row= sentence, col=word and cell_val = tfidf\n",
    "\n",
    "tfidf_sent_vectors = []; # the tfidf-w2v for each sentence/review is stored in this list\n",
    "row=0;\n",
    "for sent in list_of_sent: # for each review/sentence\n",
    "    sent_vec = np.zeros(50) # as word vectors are of zero length\n",
    "    weight_sum =0; # num of words with a valid vector in the sentence/review\n",
    "    for word in sent: # for each word in a review/sentence\n",
    "        try:\n",
    "            vec = w2v_model.wv[word]\n",
    "            # obtain the tf_idfidf of a word in a sentence/review\n",
    "            tfidf = final_tf_idf[row, tfidf_feat.index(word)]\n",
    "            sent_vec += (vec * tf_idf)\n",
    "            weight_sum += tf_idf\n",
    "        except:\n",
    "            pass\n",
    "    sent_vec /= weight_sum\n",
    "    tfidf_sent_vectors.append(sent_vec)\n",
    "    row += 1\n",
    "    "
   ]
  },
  {
   "cell_type": "code",
   "execution_count": null,
   "metadata": {
    "collapsed": true
   },
   "outputs": [],
   "source": []
  },
  {
   "cell_type": "code",
   "execution_count": null,
   "metadata": {
    "collapsed": true
   },
   "outputs": [],
   "source": []
  },
  {
   "cell_type": "code",
   "execution_count": null,
   "metadata": {
    "collapsed": true
   },
   "outputs": [],
   "source": []
  },
  {
   "cell_type": "code",
   "execution_count": null,
   "metadata": {
    "collapsed": true
   },
   "outputs": [],
   "source": []
  },
  {
   "cell_type": "code",
   "execution_count": null,
   "metadata": {
    "collapsed": true
   },
   "outputs": [],
   "source": []
  },
  {
   "cell_type": "code",
   "execution_count": null,
   "metadata": {
    "collapsed": true
   },
   "outputs": [],
   "source": []
  },
  {
   "cell_type": "code",
   "execution_count": null,
   "metadata": {
    "collapsed": true
   },
   "outputs": [],
   "source": []
  },
  {
   "cell_type": "code",
   "execution_count": null,
   "metadata": {
    "collapsed": true
   },
   "outputs": [],
   "source": []
  },
  {
   "cell_type": "code",
   "execution_count": null,
   "metadata": {
    "collapsed": true
   },
   "outputs": [],
   "source": []
  },
  {
   "cell_type": "code",
   "execution_count": null,
   "metadata": {
    "collapsed": true
   },
   "outputs": [],
   "source": []
  },
  {
   "cell_type": "code",
   "execution_count": null,
   "metadata": {
    "collapsed": true
   },
   "outputs": [],
   "source": []
  },
  {
   "cell_type": "code",
   "execution_count": null,
   "metadata": {
    "collapsed": true
   },
   "outputs": [],
   "source": []
  },
  {
   "cell_type": "code",
   "execution_count": null,
   "metadata": {
    "collapsed": true
   },
   "outputs": [],
   "source": []
  },
  {
   "cell_type": "code",
   "execution_count": null,
   "metadata": {
    "collapsed": true
   },
   "outputs": [],
   "source": []
  },
  {
   "cell_type": "code",
   "execution_count": null,
   "metadata": {
    "collapsed": true
   },
   "outputs": [],
   "source": []
  },
  {
   "cell_type": "code",
   "execution_count": null,
   "metadata": {
    "collapsed": true
   },
   "outputs": [],
   "source": []
  },
  {
   "cell_type": "code",
   "execution_count": null,
   "metadata": {
    "collapsed": true
   },
   "outputs": [],
   "source": []
  },
  {
   "cell_type": "code",
   "execution_count": null,
   "metadata": {
    "collapsed": true
   },
   "outputs": [],
   "source": []
  }
 ],
 "metadata": {
  "kernelspec": {
   "display_name": "Python 3",
   "language": "python",
   "name": "python3"
  },
  "language_info": {
   "codemirror_mode": {
    "name": "ipython",
    "version": 3
   },
   "file_extension": ".py",
   "mimetype": "text/x-python",
   "name": "python",
   "nbconvert_exporter": "python",
   "pygments_lexer": "ipython3",
   "version": "3.5.4"
  }
 },
 "nbformat": 4,
 "nbformat_minor": 2
}
